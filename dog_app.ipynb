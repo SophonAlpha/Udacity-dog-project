{
 "cells": [
  {
   "cell_type": "markdown",
   "metadata": {},
   "source": [
    "# Artificial Intelligence Nanodegree\n",
    "\n",
    "## Convolutional Neural Networks\n",
    "\n",
    "## Project: Write an Algorithm for a Dog Identification App \n",
    "\n",
    "---\n",
    "\n",
    "In this notebook, some template code has already been provided for you, and you will need to implement additional functionality to successfully complete this project. You will not need to modify the included code beyond what is requested. Sections that begin with **'(IMPLEMENTATION)'** in the header indicate that the following block of code will require additional functionality which you must provide. Instructions will be provided for each section, and the specifics of the implementation are marked in the code block with a 'TODO' statement. Please be sure to read the instructions carefully! \n",
    "\n",
    "> **Note**: Once you have completed all of the code implementations, you need to finalize your work by exporting the iPython Notebook as an HTML document. Before exporting the notebook to html, all of the code cells need to have been run so that reviewers can see the final implementation and output. You can then export the notebook by using the menu above and navigating to  \\n\",\n",
    "    \"**File -> Download as -> HTML (.html)**. Include the finished document along with this notebook as your submission.\n",
    "\n",
    "In addition to implementing code, there will be questions that you must answer which relate to the project and your implementation. Each section where you will answer a question is preceded by a **'Question X'** header. Carefully read each question and provide thorough answers in the following text boxes that begin with **'Answer:'**. Your project submission will be evaluated based on your answers to each of the questions and the implementation you provide.\n",
    "\n",
    ">**Note:** Code and Markdown cells can be executed using the **Shift + Enter** keyboard shortcut.  Markdown cells can be edited by double-clicking the cell to enter edit mode.\n",
    "\n",
    "The rubric contains _optional_ \"Stand Out Suggestions\" for enhancing the project beyond the minimum requirements. If you decide to pursue the \"Stand Out Suggestions\", you should include the code in this IPython notebook.\n",
    "\n",
    "\n",
    "\n",
    "---\n",
    "### Why We're Here \n",
    "\n",
    "In this notebook, you will make the first steps towards developing an algorithm that could be used as part of a mobile or web app.  At the end of this project, your code will accept any user-supplied image as input.  If a dog is detected in the image, it will provide an estimate of the dog's breed.  If a human is detected, it will provide an estimate of the dog breed that is most resembling.  The image below displays potential sample output of your finished project (... but we expect that each student's algorithm will behave differently!). \n",
    "\n",
    "![Sample Dog Output](images/sample_dog_output.png)\n",
    "\n",
    "In this real-world setting, you will need to piece together a series of models to perform different tasks; for instance, the algorithm that detects humans in an image will be different from the CNN that infers dog breed.  There are many points of possible failure, and no perfect algorithm exists.  Your imperfect solution will nonetheless create a fun user experience!\n",
    "\n",
    "### The Road Ahead\n",
    "\n",
    "We break the notebook into separate steps.  Feel free to use the links below to navigate the notebook.\n",
    "\n",
    "* [Step 0](#step0): Import Datasets\n",
    "* [Step 1](#step1): Detect Humans\n",
    "* [Step 2](#step2): Detect Dogs\n",
    "* [Step 3](#step3): Create a CNN to Classify Dog Breeds (from Scratch)\n",
    "* [Step 4](#step4): Use a CNN to Classify Dog Breeds (using Transfer Learning)\n",
    "* [Step 5](#step5): Create a CNN to Classify Dog Breeds (using Transfer Learning)\n",
    "* [Step 6](#step6): Write your Algorithm\n",
    "* [Step 7](#step7): Test Your Algorithm\n",
    "\n",
    "---\n",
    "<a id='step0'></a>\n",
    "## Step 0: Import Datasets\n",
    "\n",
    "### Import Dog Dataset\n",
    "\n",
    "In the code cell below, we import a dataset of dog images.  We populate a few variables through the use of the `load_files` function from the scikit-learn library:\n",
    "- `train_files`, `valid_files`, `test_files` - numpy arrays containing file paths to images\n",
    "- `train_targets`, `valid_targets`, `test_targets` - numpy arrays containing onehot-encoded classification labels \n",
    "- `dog_names` - list of string-valued dog breed names for translating labels"
   ]
  },
  {
   "cell_type": "code",
<<<<<<< HEAD
   "execution_count": 23,
=======
   "execution_count": 42,
>>>>>>> 3f4a816e8be94acac433be049285fd8ae376a62e
   "metadata": {},
   "outputs": [
    {
     "name": "stdout",
     "output_type": "stream",
     "text": [
      "There are 133 total dog categories.\n",
      "There are 8351 total dog images.\n",
      "\n",
      "There are 6680 training dog images.\n",
      "There are 835 validation dog images.\n",
      "There are 836 test dog images.\n"
     ]
    }
   ],
   "source": [
    "from sklearn.datasets import load_files       \n",
    "from keras.utils import np_utils\n",
    "import numpy as np\n",
    "from glob import glob\n",
    "\n",
    "# define function to load train, test, and validation datasets\n",
    "def load_dataset(path):\n",
    "    data = load_files(path)\n",
    "    dog_files = np.array(data['filenames'])\n",
    "    dog_targets = np_utils.to_categorical(np.array(data['target']), 133)\n",
    "    return dog_files, dog_targets\n",
    "\n",
    "# load train, test, and validation datasets\n",
    "train_files, train_targets = load_dataset('dogImages/train')\n",
    "valid_files, valid_targets = load_dataset('dogImages/valid')\n",
    "test_files, test_targets = load_dataset('dogImages/test')\n",
    "\n",
    "# load list of dog names\n",
    "dog_names = [item[20:-1] for item in sorted(glob(\"dogImages/train/*/\"))]\n",
    "\n",
    "# print statistics about the dataset\n",
    "print('There are %d total dog categories.' % len(dog_names))\n",
    "print('There are %s total dog images.\\n' % len(np.hstack([train_files, valid_files, test_files])))\n",
    "print('There are %d training dog images.' % len(train_files))\n",
    "print('There are %d validation dog images.' % len(valid_files))\n",
    "print('There are %d test dog images.'% len(test_files))"
   ]
  },
  {
   "cell_type": "markdown",
   "metadata": {},
   "source": [
    "### Import Human Dataset\n",
    "\n",
    "In the code cell below, we import a dataset of human images, where the file paths are stored in the numpy array `human_files`."
   ]
  },
  {
   "cell_type": "code",
<<<<<<< HEAD
   "execution_count": 24,
=======
   "execution_count": 43,
>>>>>>> 3f4a816e8be94acac433be049285fd8ae376a62e
   "metadata": {},
   "outputs": [
    {
     "name": "stdout",
     "output_type": "stream",
     "text": [
      "There are 13233 total human images.\n"
     ]
    }
   ],
   "source": [
    "import random\n",
    "random.seed(8675309)\n",
    "\n",
    "# load filenames in shuffled human dataset\n",
    "human_files = np.array(glob(\"lfw/*/*\"))\n",
    "random.shuffle(human_files)\n",
    "\n",
    "# print statistics about the dataset\n",
    "print('There are %d total human images.' % len(human_files))"
   ]
  },
  {
   "cell_type": "markdown",
   "metadata": {},
   "source": [
    "---\n",
    "<a id='step1'></a>\n",
    "## Step 1: Detect Humans\n",
    "\n",
    "We use OpenCV's implementation of [Haar feature-based cascade classifiers](http://docs.opencv.org/trunk/d7/d8b/tutorial_py_face_detection.html) to detect human faces in images.  OpenCV provides many pre-trained face detectors, stored as XML files on [github](https://github.com/opencv/opencv/tree/master/data/haarcascades).  We have downloaded one of these detectors and stored it in the `haarcascades` directory.\n",
    "\n",
    "In the next code cell, we demonstrate how to use this detector to find human faces in a sample image."
   ]
  },
  {
   "cell_type": "code",
<<<<<<< HEAD
   "execution_count": 25,
=======
   "execution_count": 44,
>>>>>>> 3f4a816e8be94acac433be049285fd8ae376a62e
   "metadata": {},
   "outputs": [
    {
     "name": "stdout",
     "output_type": "stream",
     "text": [
      "<class 'numpy.ndarray'>\n",
      "(250, 250, 3)\n",
      "Number of faces detected: 3\n",
      "<class 'numpy.ndarray'>\n",
      "(250, 250, 3)\n"
     ]
    },
    {
     "data": {
      "image/png": "iVBORw0KGgoAAAANSUhEUgAAAQsAAAD8CAYAAABgtYFHAAAABHNCSVQICAgIfAhkiAAAAAlwSFlz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\n",
      "text/plain": [
<<<<<<< HEAD
       "<matplotlib.figure.Figure at 0x13954358>"
=======
       "<matplotlib.figure.Figure at 0x7fd434317080>"
>>>>>>> 3f4a816e8be94acac433be049285fd8ae376a62e
      ]
     },
     "metadata": {},
     "output_type": "display_data"
    }
   ],
   "source": [
    "import cv2                \n",
    "import matplotlib.pyplot as plt                        \n",
    "%matplotlib inline                               \n",
    "\n",
    "# extract pre-trained face detector\n",
    "face_cascade = cv2.CascadeClassifier('haarcascades/haarcascade_frontalface_alt.xml')\n",
    "\n",
    "# load color (BGR) image\n",
    "img = cv2.imread(human_files[3])\n",
    "print(type(img))\n",
    "print(img.shape)\n",
    "# convert BGR image to grayscale\n",
    "gray = cv2.cvtColor(img, cv2.COLOR_BGR2GRAY)\n",
    "\n",
    "# find faces in image\n",
    "faces = face_cascade.detectMultiScale(gray)\n",
    "\n",
    "# print number of faces detected in the image\n",
    "print('Number of faces detected:', len(faces))\n",
    "\n",
    "# get bounding box for each detected face\n",
    "for (x,y,w,h) in faces:\n",
    "    # add bounding box to color image\n",
    "    cv2.rectangle(img,(x,y),(x+w,y+h),(255,0,0),2)\n",
    "    \n",
    "# convert BGR image to RGB for plotting\n",
    "cv_rgb = cv2.cvtColor(img, cv2.COLOR_BGR2RGB)\n",
    "print(type(cv_rgb))\n",
    "print(cv_rgb.shape)\n",
    "\n",
    "# display the image, along with bounding box\n",
    "plt.imshow(cv_rgb)\n",
    "plt.show()"
   ]
  },
  {
   "cell_type": "markdown",
   "metadata": {},
   "source": [
    "Before using any of the face detectors, it is standard procedure to convert the images to grayscale.  The `detectMultiScale` function executes the classifier stored in `face_cascade` and takes the grayscale image as a parameter.  \n",
    "\n",
    "In the above code, `faces` is a numpy array of detected faces, where each row corresponds to a detected face.  Each detected face is a 1D array with four entries that specifies the bounding box of the detected face.  The first two entries in the array (extracted in the above code as `x` and `y`) specify the horizontal and vertical positions of the top left corner of the bounding box.  The last two entries in the array (extracted here as `w` and `h`) specify the width and height of the box.\n",
    "\n",
    "### Write a Human Face Detector\n",
    "\n",
    "We can use this procedure to write a function that returns `True` if a human face is detected in an image and `False` otherwise.  This function, aptly named `face_detector`, takes a string-valued file path to an image as input and appears in the code block below."
   ]
  },
  {
   "cell_type": "code",
<<<<<<< HEAD
   "execution_count": 26,
=======
   "execution_count": 45,
>>>>>>> 3f4a816e8be94acac433be049285fd8ae376a62e
   "metadata": {},
   "outputs": [],
   "source": [
    "# returns \"True\" if face is detected in image stored at img_path\n",
    "def face_detector(img_path):\n",
    "    img = cv2.imread(img_path)\n",
    "    gray = cv2.cvtColor(img, cv2.COLOR_BGR2GRAY)\n",
    "    faces = face_cascade.detectMultiScale(gray)\n",
    "    return len(faces) > 0"
   ]
  },
  {
   "cell_type": "markdown",
   "metadata": {},
   "source": [
    "### (IMPLEMENTATION) Assess the Human Face Detector\n",
    "\n",
    "__Question 1:__ Use the code cell below to test the performance of the `face_detector` function.  \n",
    "- What percentage of the first 100 images in `human_files` have a detected human face?  \n",
    "- What percentage of the first 100 images in `dog_files` have a detected human face? \n",
    "\n",
    "Ideally, we would like 100% of human images with a detected face and 0% of dog images with a detected face.  You will see that our algorithm falls short of this goal, but still gives acceptable performance.  We extract the file paths for the first 100 images from each of the datasets and store them in the numpy arrays `human_files_short` and `dog_files_short`.\n",
    "\n",
    "__Answer:__ "
   ]
  },
  {
   "cell_type": "code",
<<<<<<< HEAD
   "execution_count": 27,
=======
   "execution_count": 46,
>>>>>>> 3f4a816e8be94acac433be049285fd8ae376a62e
   "metadata": {},
   "outputs": [
    {
     "name": "stdout",
     "output_type": "stream",
     "text": [
      "In \"human_files\" 99.0% of images have a detected human face.\n",
      "In \"dog_files\" 11.0% of images have a detected human face.\n"
     ]
    }
   ],
   "source": [
    "human_files_short = human_files[:100]\n",
    "dog_files_short = train_files[:100]\n",
    "# Do NOT modify the code above this line.\n",
    "\n",
    "## TODO: Test the performance of the face_detector algorithm \n",
    "## on the images in human_files_short and dog_files_short.\n",
    "\n",
    "def detection_rate(file_list):\n",
    "    detected_human_faces = np.array([int(face_detector(f)) for f in file_list])\n",
    "    detection_rate = (detected_human_faces.sum()/file_list.shape[0])*100\n",
    "    return detection_rate\n",
    "\n",
    "print('In \"human_files\" {0}% of images have a detected human face.'.format(detection_rate(human_files_short)))\n",
    "print('In \"dog_files\" {0}% of images have a detected human face.'.format(detection_rate(dog_files_short)))\n"
   ]
  },
  {
   "cell_type": "markdown",
   "metadata": {},
   "source": [
    "__Question 2:__ This algorithmic choice necessitates that we communicate to the user that we accept human images only when they provide a clear view of a face (otherwise, we risk having unneccessarily frustrated users!). In your opinion, is this a reasonable expectation to pose on the user? If not, can you think of a way to detect humans in images that does not necessitate an image with a clearly presented face?\n",
    "\n",
    "__Answer:__\n",
    "\n",
    "I would say it is a reasonable expectation. From a user experience perspective if a user uses an face detection app it would feel natural for a user to pose a clear face view. However, to enable the algorithm to also accept partially covered faces I would use the image augmentation approach. In this approach I would take existing image and randomly cover parts of the face.\n",
    "\n",
    "We suggest the face detector from OpenCV as a potential way to detect human images in your algorithm, but you are free to explore other approaches, especially approaches that make use of deep learning :).  Please use the code cell below to design and test your own face detection algorithm.  If you decide to pursue this _optional_ task, report performance on each of the datasets."
   ]
  },
  {
   "cell_type": "code",
<<<<<<< HEAD
   "execution_count": 28,
=======
   "execution_count": 47,
>>>>>>> 3f4a816e8be94acac433be049285fd8ae376a62e
   "metadata": {},
   "outputs": [],
   "source": [
    "## (Optional) TODO: Report the performance of another  \n",
    "## face detection algorithm on the LFW dataset\n",
    "### Feel free to use as many code cells as needed.\n",
    "\n",
    "# helper functions to get a feeling for the size and shape of images\n",
    "def get_dimensions(file_list):\n",
    "    file_dims = []\n",
    "    for file in file_list:\n",
    "        img = cv2.imread(file)\n",
    "        file_dims.append([img.shape[0], img.shape[1], img.shape[2]])\n",
    "    return np.array(file_dims)"
   ]
  },
  {
   "cell_type": "markdown",
   "metadata": {},
   "source": [
    "Using GPU support significantly increases performance. Running the model for 2,000 pictures (1,000 human, 1,000 dogs) on a Dell Latitude E7540 took around 2.8 hours. Running the same model on an AWS p2.xlarge instance took around 8.4 minutes!"
   ]
  },
  {
   "cell_type": "code",
   "execution_count": 48,
   "metadata": {},
   "outputs": [
    {
     "name": "stdout",
     "output_type": "stream",
     "text": [
      "[name: \"/cpu:0\"\n",
      "device_type: \"CPU\"\n",
      "memory_limit: 268435456\n",
      "locality {\n",
      "}\n",
      "incarnation: 6543021707068079976\n",
      ", name: \"/gpu:0\"\n",
      "device_type: \"GPU\"\n",
      "memory_limit: 266731520\n",
      "locality {\n",
      "  bus_id: 1\n",
      "}\n",
      "incarnation: 2896653940098545508\n",
      "physical_device_desc: \"device: 0, name: Tesla K80, pci bus id: 0000:00:1e.0\"\n",
      "]\n"
     ]
    }
   ],
   "source": [
    "# check if we have GPU support\n",
    "\n",
    "from tensorflow.python.client import device_lib\n",
    "print(device_lib.list_local_devices())"
   ]
  },
  {
   "cell_type": "code",
<<<<<<< HEAD
   "execution_count": 29,
=======
   "execution_count": 49,
>>>>>>> 3f4a816e8be94acac433be049285fd8ae376a62e
   "metadata": {},
   "outputs": [],
   "source": [
    "# get the dimensions of each picture\n",
    "human_files_dims = get_dimensions(human_files[100:])\n",
    "dog_files_dims = get_dimensions(train_files[100:])"
   ]
  },
  {
   "cell_type": "code",
<<<<<<< HEAD
   "execution_count": 30,
=======
   "execution_count": 50,
>>>>>>> 3f4a816e8be94acac433be049285fd8ae376a62e
   "metadata": {},
   "outputs": [
    {
     "name": "stdout",
     "output_type": "stream",
     "text": [
      "human files: 13133\n",
      "human files min dimensions: [250 250   3]\n",
      "human files max dimensions: [250 250   3]\n",
      "dog files: 6580\n",
      "dog files min dimensions: [113 112   3]\n",
      "human files max dimensions: [4003 4278    3]\n"
     ]
    }
   ],
   "source": [
    "# get some stats of the images, I'm interested whether there are differences\n",
    "# in the size of the images\n",
    "print('human files: {}'.format(human_files_dims.shape[0]))\n",
    "print('human files min dimensions: {}'.format(human_files_dims.min(axis=0)))\n",
    "print('human files max dimensions: {}'.format(human_files_dims.max(axis=0)))\n",
    "print('dog files: {}'.format(dog_files_dims.shape[0]))\n",
    "print('dog files min dimensions: {}'.format(dog_files_dims.min(axis=0)))\n",
    "print('human files max dimensions: {}'.format(dog_files_dims.max(axis=0)))"
   ]
  },
  {
   "cell_type": "markdown",
   "metadata": {},
   "source": [
    "For the human dataset the dimensions of the images are the same (250 x 250). On the other hand the dog images vary in their dimensions (from 113 x 112 to 4003 x 4278). I need to scale the images to an equal size before feeding them into a deep learning network.\n",
    "\n",
    "For learning purposes, let's have a look at the cifar10 dataset and how it is structured. We will need to structure our image data in the same structure to run it through a CNN."
   ]
  },
  {
   "cell_type": "code",
<<<<<<< HEAD
   "execution_count": 31,
=======
   "execution_count": 51,
>>>>>>> 3f4a816e8be94acac433be049285fd8ae376a62e
   "metadata": {},
   "outputs": [
    {
     "name": "stdout",
     "output_type": "stream",
     "text": [
      "(50000, 32, 32, 3) (50000, 1)\n",
      "(10000, 32, 32, 3) (10000, 1)\n"
     ]
    }
   ],
   "source": [
    "from keras.datasets import cifar10\n",
    "(x_train, y_train), (x_test, y_test) = cifar10.load_data()\n",
    "print(x_train.shape, y_train.shape)\n",
    "print(x_test.shape, y_test.shape)\n",
    "\n",
    "# memory management: delete arrays as they take up substantial memory\n",
    "del x_train, y_train, x_test, y_test"
   ]
  },
  {
   "cell_type": "markdown",
   "metadata": {},
   "source": [
    "Issue with memory management. Got MemoryError after loading all images and creating several numpy arrays afterwards (train, test data). Using 'del\" didn't help (see link futher down)."
   ]
  },
  {
   "cell_type": "code",
<<<<<<< HEAD
   "execution_count": 32,
=======
   "execution_count": 52,
>>>>>>> 3f4a816e8be94acac433be049285fd8ae376a62e
   "metadata": {},
   "outputs": [
    {
     "name": "stdout",
     "output_type": "stream",
     "text": [
<<<<<<< HEAD
      "human files: 1000\n",
      "dog files: 1000\n",
      "number of train images: (1600, 224, 224, 3)\n",
      "number of train labels: (1600, 1)\n",
      "number of human test images: (200, 224, 224, 3)\n",
      "number of human test labels: (200, 1)\n",
      "number of dog test images: (200, 224, 224, 3)\n",
      "number of dog test labels: (200, 1)\n"
=======
      "human files: 13233\n",
      "dog files: 6680\n",
      "number of train images: (15930, 224, 224, 3)\n",
      "number of train labels: (15930, 1)\n",
      "number of human test images: (2647, 224, 224, 3)\n",
      "number of human test labels: (2647, 1)\n",
      "number of dog test images: (1336, 224, 224, 3)\n",
      "number of dog test labels: (1336, 1)\n"
>>>>>>> 3f4a816e8be94acac433be049285fd8ae376a62e
     ]
    }
   ],
   "source": [
    "# rescale and create list of tensors\n",
    "def files_to_tensors(file_list):\n",
    "    images = []\n",
    "    for f in file_list:\n",
    "        img = cv2.imread(f)\n",
    "        img_res = cv2.resize(img, (224, 224), interpolation=cv2.INTER_CUBIC)\n",
    "        images.append(img_res)\n",
    "    return np.stack(images)\n",
    "\n",
    "num_of_human_pictures = human_files.shape[0]\n",
    "#num_of_human_pictures = 1000\n",
    "num_of_dog_pictures = train_files.shape[0]\n",
    "#num_of_dog_pictures = 1000\n",
    "\n",
    "train_proportion = 0.8\n",
    "num_train_human = int(num_of_human_pictures * train_proportion)\n",
    "num_test_human = num_of_human_pictures - num_train_human\n",
    "num_train_dogs = int(num_of_dog_pictures * train_proportion)\n",
    "num_test_dogs = num_of_dog_pictures - num_train_dogs\n",
    "\n",
    "train_images = files_to_tensors(np.concatenate((human_files[:num_train_human],\n",
    "                                               train_files[:num_train_dogs])))\n",
    "train_labels = np.concatenate((np.full((num_train_human,1), 0, dtype=int),\n",
    "                               np.full((num_train_dogs,1), 1, dtype=int)))\n",
    "test_images_human = files_to_tensors(human_files[-num_test_human:])\n",
    "test_labels_human = np.full((num_test_human,1), 0, dtype=int)\n",
    "test_images_dogs = files_to_tensors(train_files[-num_test_dogs:])\n",
    "test_labels_dogs = np.full((num_test_dogs,1), 1, dtype=int)\n",
    "\n",
    "print('human files: {}'.format(num_of_human_pictures))\n",
    "print('dog files: {}'.format(num_of_dog_pictures))\n",
    "print('number of train images: {}'.format(train_images.shape))\n",
    "print('number of train labels: {}'.format(train_labels.shape))\n",
    "print('number of human test images: {}'.format(test_images_human.shape))\n",
    "print('number of human test labels: {}'.format(test_labels_human.shape))\n",
    "print('number of dog test images: {}'.format(test_images_dogs.shape))\n",
    "print('number of dog test labels: {}'.format(test_labels_dogs.shape))"
   ]
  },
  {
   "cell_type": "code",
<<<<<<< HEAD
   "execution_count": 33,
=======
   "execution_count": 53,
>>>>>>> 3f4a816e8be94acac433be049285fd8ae376a62e
   "metadata": {
    "scrolled": true
   },
   "outputs": [
    {
     "name": "stdout",
     "output_type": "stream",
     "text": [
      "[0] [0]\n",
      "[1] [1]\n",
      "[0] [0]\n",
      "[1] [1]\n"
     ]
    },
    {
     "data": {
<<<<<<< HEAD
      "image/png": "iVBORw0KGgoAAAANSUhEUgAAAKYAAACCCAYAAADMtbNXAAAABHNCSVQICAgIfAhkiAAAAAlwSFlz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\n",
      "text/plain": [
       "<matplotlib.figure.Figure at 0x23b0d828>"
=======
      "image/png": "iVBORw0KGgoAAAANSUhEUgAAAKYAAACCCAYAAADMtbNXAAAABHNCSVQICAgIfAhkiAAAAAlwSFlz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\n",
      "text/plain": [
       "<matplotlib.figure.Figure at 0x7fd461fc0898>"
>>>>>>> 3f4a816e8be94acac433be049285fd8ae376a62e
      ]
     },
     "metadata": {},
     "output_type": "display_data"
    }
   ],
   "source": [
    "import matplotlib.pyplot as plt\n",
    "%matplotlib inline\n",
    "\n",
    "fig = plt.figure(figsize=(4,2))\n",
    "# pictures from training data set\n",
    "ax = fig.add_subplot(4, 2, 1, xticks=[], yticks=[])\n",
    "ax.imshow(np.squeeze(train_images[0]))\n",
    "ax = fig.add_subplot(4, 2, 2, xticks=[], yticks=[])\n",
    "ax.imshow(np.squeeze(train_images[num_train_human-1]))\n",
    "ax = fig.add_subplot(4, 2, 3, xticks=[], yticks=[])\n",
    "ax.imshow(np.squeeze(train_images[num_train_human]))\n",
    "ax = fig.add_subplot(4, 2, 4, xticks=[], yticks=[])\n",
    "ax.imshow(np.squeeze(train_images[-1]))\n",
    "# pictures from test data sets\n",
    "ax = fig.add_subplot(4, 2, 5, xticks=[], yticks=[])\n",
    "ax.imshow(np.squeeze(test_images_human[0]))\n",
    "ax = fig.add_subplot(4, 2, 6, xticks=[], yticks=[])\n",
    "ax.imshow(np.squeeze(test_images_human[-1]))\n",
    "ax = fig.add_subplot(4, 2, 7, xticks=[], yticks=[])\n",
    "ax.imshow(np.squeeze(test_images_dogs[0]))\n",
    "ax = fig.add_subplot(4, 2, 8, xticks=[], yticks=[])\n",
    "ax.imshow(np.squeeze(test_images_dogs[-1]))\n",
    "\n",
    "print(train_labels[0], train_labels[num_train_human-1])\n",
    "print(train_labels[num_train_human], train_labels[-1])\n",
    "\n",
    "print(test_labels_human[0], test_labels_human[-1])\n",
    "print(test_labels_dogs[0], test_labels_dogs[-1])"
   ]
  },
  {
   "cell_type": "markdown",
   "metadata": {},
   "source": [
    "All images have been resized to standard dimensions and the image arrays are arranged as a tensor for use in a keras CNN."
   ]
  },
  {
   "cell_type": "markdown",
   "metadata": {},
   "source": [
    "Issues with 'MemoryError'. It appears as if Python doesn't release memory despite using the del command to delete some of the large arrays that are no longer required. See also: http://effbot.org/pyfaq/why-doesnt-python-release-the-memory-when-i-delete-a-large-object.htm\n",
    "\n",
    "Need to find another way."
   ]
  },
  {
   "cell_type": "code",
<<<<<<< HEAD
   "execution_count": 34,
=======
   "execution_count": 54,
>>>>>>> 3f4a816e8be94acac433be049285fd8ae376a62e
   "metadata": {},
   "outputs": [],
   "source": [
    "# rescale pixel from 0 - 255 to 0.0 - 1.0\n",
    "train_images = train_images.astype('float32')/255\n",
    "test_images_human = test_images_human.astype('float32')/255\n",
    "test_images_dogs = test_images_dogs.astype('float32')/255"
   ]
  },
  {
   "cell_type": "code",
<<<<<<< HEAD
   "execution_count": 35,
=======
   "execution_count": 55,
>>>>>>> 3f4a816e8be94acac433be049285fd8ae376a62e
   "metadata": {},
   "outputs": [],
   "source": [
    "from keras.utils import np_utils\n",
    "# one-hot encode the labels\n",
    "num_classes = len(np.unique(train_labels))\n",
    "train_labels = np_utils.to_categorical(train_labels, num_classes)\n",
    "test_labels_human = np_utils.to_categorical(test_labels_human, num_classes)\n",
    "test_labels_dogs = np_utils.to_categorical(test_labels_dogs, num_classes)"
   ]
  },
  {
   "cell_type": "code",
<<<<<<< HEAD
   "execution_count": 36,
=======
   "execution_count": null,
>>>>>>> 3f4a816e8be94acac433be049285fd8ae376a62e
   "metadata": {},
   "outputs": [
    {
     "name": "stdout",
     "output_type": "stream",
     "text": [
      "_________________________________________________________________\n",
      "Layer (type)                 Output Shape              Param #   \n",
      "=================================================================\n",
<<<<<<< HEAD
      "conv2d_4 (Conv2D)            (None, 224, 224, 16)      448       \n",
      "_________________________________________________________________\n",
      "max_pooling2d_4 (MaxPooling2 (None, 112, 112, 16)      0         \n",
      "_________________________________________________________________\n",
      "conv2d_5 (Conv2D)            (None, 112, 112, 32)      4640      \n",
      "_________________________________________________________________\n",
      "max_pooling2d_5 (MaxPooling2 (None, 56, 56, 32)        0         \n",
      "_________________________________________________________________\n",
      "conv2d_6 (Conv2D)            (None, 56, 56, 64)        18496     \n",
      "_________________________________________________________________\n",
      "max_pooling2d_6 (MaxPooling2 (None, 28, 28, 64)        0         \n",
      "_________________________________________________________________\n",
      "dropout_3 (Dropout)          (None, 28, 28, 64)        0         \n",
      "_________________________________________________________________\n",
      "flatten_2 (Flatten)          (None, 50176)             0         \n",
      "_________________________________________________________________\n",
      "dense_3 (Dense)              (None, 500)               25088500  \n",
      "_________________________________________________________________\n",
      "dropout_4 (Dropout)          (None, 500)               0         \n",
      "_________________________________________________________________\n",
      "dense_4 (Dense)              (None, 2)                 1002      \n",
=======
      "conv2d_10 (Conv2D)           (None, 224, 224, 32)      896       \n",
      "_________________________________________________________________\n",
      "max_pooling2d_10 (MaxPooling (None, 112, 112, 32)      0         \n",
      "_________________________________________________________________\n",
      "conv2d_11 (Conv2D)           (None, 112, 112, 64)      18496     \n",
      "_________________________________________________________________\n",
      "max_pooling2d_11 (MaxPooling (None, 56, 56, 64)        0         \n",
      "_________________________________________________________________\n",
      "conv2d_12 (Conv2D)           (None, 56, 56, 128)       73856     \n",
      "_________________________________________________________________\n",
      "max_pooling2d_12 (MaxPooling (None, 28, 28, 128)       0         \n",
      "_________________________________________________________________\n",
      "dropout_7 (Dropout)          (None, 28, 28, 128)       0         \n",
      "_________________________________________________________________\n",
      "flatten_4 (Flatten)          (None, 100352)            0         \n",
      "_________________________________________________________________\n",
      "dense_7 (Dense)              (None, 500)               50176500  \n",
      "_________________________________________________________________\n",
      "dropout_8 (Dropout)          (None, 500)               0         \n",
      "_________________________________________________________________\n",
      "dense_8 (Dense)              (None, 2)                 1002      \n",
>>>>>>> 3f4a816e8be94acac433be049285fd8ae376a62e
      "=================================================================\n",
      "Total params: 50,270,750\n",
      "Trainable params: 50,270,750\n",
      "Non-trainable params: 0\n",
      "_________________________________________________________________\n"
     ]
    }
   ],
   "source": [
    "from keras.models import Sequential\n",
    "from keras.layers import Convolution2D, MaxPooling2D, Flatten, Dense, Dropout\n",
    "from keras.callbacks import ModelCheckpoint\n",
    "\n",
    "# let's try a bunch of convnets and maxpools ...\n",
    "\n",
    "model = Sequential()\n",
    "model.add(Convolution2D(filters=32, kernel_size=3, padding='same', activation='relu',\n",
    "                        input_shape=(train_images.shape[1],\n",
    "                                     train_images.shape[2],\n",
    "                                     train_images.shape[3])))\n",
    "model.add(MaxPooling2D(pool_size=2))\n",
    "model.add(Convolution2D(filters=64, kernel_size=3, padding='same', activation='relu'))\n",
    "model.add(MaxPooling2D(pool_size=2))\n",
    "model.add(Convolution2D(filters=128, kernel_size=3, padding='same', activation='relu'))\n",
    "model.add(MaxPooling2D(pool_size=2))\n",
    "model.add(Dropout(0.3))\n",
    "model.add(Flatten())\n",
    "model.add(Dense(500, activation='relu'))\n",
    "model.add(Dropout(0.4))\n",
    "model.add(Dense(2, activation='softmax'))\n",
    "model.summary()"
   ]
  },
  {
   "cell_type": "code",
<<<<<<< HEAD
   "execution_count": 37,
=======
   "execution_count": null,
>>>>>>> 3f4a816e8be94acac433be049285fd8ae376a62e
   "metadata": {},
   "outputs": [
    {
     "name": "stdout",
     "output_type": "stream",
     "text": [
<<<<<<< HEAD
      "(1600, 224, 224, 3)\n",
      "(1600, 2)\n",
      "Train on 1280 samples, validate on 320 samples\n",
      "Epoch 1/100\n",
      "Epoch 00000: val_loss improved from inf to 16.11810, saving model to CNN.weights.best.hdf5\n",
      "129s - loss: 5.9430 - acc: 0.6187 - val_loss: 16.1181 - val_acc: 0.0000e+00\n",
      "Epoch 2/100\n",
      "Epoch 00001: val_loss did not improve\n",
      "124s - loss: 6.0443 - acc: 0.6250 - val_loss: 16.1181 - val_acc: 0.0000e+00\n",
      "Epoch 3/100\n",
      "Epoch 00002: val_loss did not improve\n",
      "127s - loss: 6.0443 - acc: 0.6250 - val_loss: 16.1181 - val_acc: 0.0000e+00\n",
      "Epoch 4/100\n",
      "Epoch 00003: val_loss did not improve\n",
      "123s - loss: 6.0443 - acc: 0.6250 - val_loss: 16.1181 - val_acc: 0.0000e+00\n",
      "Epoch 5/100\n"
     ]
    },
    {
     "ename": "KeyboardInterrupt",
     "evalue": "",
     "output_type": "error",
     "traceback": [
      "\u001b[1;31m---------------------------------------------------------------------------\u001b[0m",
      "\u001b[1;31mKeyboardInterrupt\u001b[0m                         Traceback (most recent call last)",
      "\u001b[1;32m<ipython-input-37-b4797f8e05b1>\u001b[0m in \u001b[0;36m<module>\u001b[1;34m()\u001b[0m\n\u001b[0;32m      5\u001b[0m \u001b[0mcheckpointer\u001b[0m \u001b[1;33m=\u001b[0m \u001b[0mModelCheckpoint\u001b[0m\u001b[1;33m(\u001b[0m\u001b[0mfilepath\u001b[0m\u001b[1;33m=\u001b[0m\u001b[1;34m'CNN.weights.best.hdf5'\u001b[0m\u001b[1;33m,\u001b[0m \u001b[0mverbose\u001b[0m\u001b[1;33m=\u001b[0m\u001b[1;36m1\u001b[0m\u001b[1;33m,\u001b[0m \u001b[0msave_best_only\u001b[0m\u001b[1;33m=\u001b[0m\u001b[1;32mTrue\u001b[0m\u001b[1;33m)\u001b[0m\u001b[1;33m\u001b[0m\u001b[0m\n\u001b[0;32m      6\u001b[0m hist = model.fit(train_images, train_labels, batch_size=32, epochs=100,\n\u001b[1;32m----> 7\u001b[1;33m                  validation_split=0.2, callbacks=[checkpointer], verbose=2, shuffle=True)\n\u001b[0m",
      "\u001b[1;32m~\\AppData\\Local\\Continuum\\Anaconda3\\lib\\site-packages\\keras\\models.py\u001b[0m in \u001b[0;36mfit\u001b[1;34m(self, x, y, batch_size, epochs, verbose, callbacks, validation_split, validation_data, shuffle, class_weight, sample_weight, initial_epoch, **kwargs)\u001b[0m\n\u001b[0;32m    865\u001b[0m                               \u001b[0mclass_weight\u001b[0m\u001b[1;33m=\u001b[0m\u001b[0mclass_weight\u001b[0m\u001b[1;33m,\u001b[0m\u001b[1;33m\u001b[0m\u001b[0m\n\u001b[0;32m    866\u001b[0m                               \u001b[0msample_weight\u001b[0m\u001b[1;33m=\u001b[0m\u001b[0msample_weight\u001b[0m\u001b[1;33m,\u001b[0m\u001b[1;33m\u001b[0m\u001b[0m\n\u001b[1;32m--> 867\u001b[1;33m                               initial_epoch=initial_epoch)\n\u001b[0m\u001b[0;32m    868\u001b[0m \u001b[1;33m\u001b[0m\u001b[0m\n\u001b[0;32m    869\u001b[0m     def evaluate(self, x, y, batch_size=32, verbose=1,\n",
      "\u001b[1;32m~\\AppData\\Local\\Continuum\\Anaconda3\\lib\\site-packages\\keras\\engine\\training.py\u001b[0m in \u001b[0;36mfit\u001b[1;34m(self, x, y, batch_size, epochs, verbose, callbacks, validation_split, validation_data, shuffle, class_weight, sample_weight, initial_epoch, steps_per_epoch, validation_steps, **kwargs)\u001b[0m\n\u001b[0;32m   1596\u001b[0m                               \u001b[0minitial_epoch\u001b[0m\u001b[1;33m=\u001b[0m\u001b[0minitial_epoch\u001b[0m\u001b[1;33m,\u001b[0m\u001b[1;33m\u001b[0m\u001b[0m\n\u001b[0;32m   1597\u001b[0m                               \u001b[0msteps_per_epoch\u001b[0m\u001b[1;33m=\u001b[0m\u001b[0msteps_per_epoch\u001b[0m\u001b[1;33m,\u001b[0m\u001b[1;33m\u001b[0m\u001b[0m\n\u001b[1;32m-> 1598\u001b[1;33m                               validation_steps=validation_steps)\n\u001b[0m\u001b[0;32m   1599\u001b[0m \u001b[1;33m\u001b[0m\u001b[0m\n\u001b[0;32m   1600\u001b[0m     def evaluate(self, x, y,\n",
      "\u001b[1;32m~\\AppData\\Local\\Continuum\\Anaconda3\\lib\\site-packages\\keras\\engine\\training.py\u001b[0m in \u001b[0;36m_fit_loop\u001b[1;34m(self, f, ins, out_labels, batch_size, epochs, verbose, callbacks, val_f, val_ins, shuffle, callback_metrics, initial_epoch, steps_per_epoch, validation_steps)\u001b[0m\n\u001b[0;32m   1181\u001b[0m                     \u001b[0mbatch_logs\u001b[0m\u001b[1;33m[\u001b[0m\u001b[1;34m'size'\u001b[0m\u001b[1;33m]\u001b[0m \u001b[1;33m=\u001b[0m \u001b[0mlen\u001b[0m\u001b[1;33m(\u001b[0m\u001b[0mbatch_ids\u001b[0m\u001b[1;33m)\u001b[0m\u001b[1;33m\u001b[0m\u001b[0m\n\u001b[0;32m   1182\u001b[0m                     \u001b[0mcallbacks\u001b[0m\u001b[1;33m.\u001b[0m\u001b[0mon_batch_begin\u001b[0m\u001b[1;33m(\u001b[0m\u001b[0mbatch_index\u001b[0m\u001b[1;33m,\u001b[0m \u001b[0mbatch_logs\u001b[0m\u001b[1;33m)\u001b[0m\u001b[1;33m\u001b[0m\u001b[0m\n\u001b[1;32m-> 1183\u001b[1;33m                     \u001b[0mouts\u001b[0m \u001b[1;33m=\u001b[0m \u001b[0mf\u001b[0m\u001b[1;33m(\u001b[0m\u001b[0mins_batch\u001b[0m\u001b[1;33m)\u001b[0m\u001b[1;33m\u001b[0m\u001b[0m\n\u001b[0m\u001b[0;32m   1184\u001b[0m                     \u001b[1;32mif\u001b[0m \u001b[1;32mnot\u001b[0m \u001b[0misinstance\u001b[0m\u001b[1;33m(\u001b[0m\u001b[0mouts\u001b[0m\u001b[1;33m,\u001b[0m \u001b[0mlist\u001b[0m\u001b[1;33m)\u001b[0m\u001b[1;33m:\u001b[0m\u001b[1;33m\u001b[0m\u001b[0m\n\u001b[0;32m   1185\u001b[0m                         \u001b[0mouts\u001b[0m \u001b[1;33m=\u001b[0m \u001b[1;33m[\u001b[0m\u001b[0mouts\u001b[0m\u001b[1;33m]\u001b[0m\u001b[1;33m\u001b[0m\u001b[0m\n",
      "\u001b[1;32m~\\AppData\\Local\\Continuum\\Anaconda3\\lib\\site-packages\\keras\\backend\\tensorflow_backend.py\u001b[0m in \u001b[0;36m__call__\u001b[1;34m(self, inputs)\u001b[0m\n\u001b[0;32m   2271\u001b[0m         updated = session.run(self.outputs + [self.updates_op],\n\u001b[0;32m   2272\u001b[0m                               \u001b[0mfeed_dict\u001b[0m\u001b[1;33m=\u001b[0m\u001b[0mfeed_dict\u001b[0m\u001b[1;33m,\u001b[0m\u001b[1;33m\u001b[0m\u001b[0m\n\u001b[1;32m-> 2273\u001b[1;33m                               **self.session_kwargs)\n\u001b[0m\u001b[0;32m   2274\u001b[0m         \u001b[1;32mreturn\u001b[0m \u001b[0mupdated\u001b[0m\u001b[1;33m[\u001b[0m\u001b[1;33m:\u001b[0m\u001b[0mlen\u001b[0m\u001b[1;33m(\u001b[0m\u001b[0mself\u001b[0m\u001b[1;33m.\u001b[0m\u001b[0moutputs\u001b[0m\u001b[1;33m)\u001b[0m\u001b[1;33m]\u001b[0m\u001b[1;33m\u001b[0m\u001b[0m\n\u001b[0;32m   2275\u001b[0m \u001b[1;33m\u001b[0m\u001b[0m\n",
      "\u001b[1;32m~\\AppData\\Local\\Continuum\\Anaconda3\\lib\\site-packages\\tensorflow\\python\\client\\session.py\u001b[0m in \u001b[0;36mrun\u001b[1;34m(self, fetches, feed_dict, options, run_metadata)\u001b[0m\n\u001b[0;32m    776\u001b[0m     \u001b[1;32mtry\u001b[0m\u001b[1;33m:\u001b[0m\u001b[1;33m\u001b[0m\u001b[0m\n\u001b[0;32m    777\u001b[0m       result = self._run(None, fetches, feed_dict, options_ptr,\n\u001b[1;32m--> 778\u001b[1;33m                          run_metadata_ptr)\n\u001b[0m\u001b[0;32m    779\u001b[0m       \u001b[1;32mif\u001b[0m \u001b[0mrun_metadata\u001b[0m\u001b[1;33m:\u001b[0m\u001b[1;33m\u001b[0m\u001b[0m\n\u001b[0;32m    780\u001b[0m         \u001b[0mproto_data\u001b[0m \u001b[1;33m=\u001b[0m \u001b[0mtf_session\u001b[0m\u001b[1;33m.\u001b[0m\u001b[0mTF_GetBuffer\u001b[0m\u001b[1;33m(\u001b[0m\u001b[0mrun_metadata_ptr\u001b[0m\u001b[1;33m)\u001b[0m\u001b[1;33m\u001b[0m\u001b[0m\n",
      "\u001b[1;32m~\\AppData\\Local\\Continuum\\Anaconda3\\lib\\site-packages\\tensorflow\\python\\client\\session.py\u001b[0m in \u001b[0;36m_run\u001b[1;34m(self, handle, fetches, feed_dict, options, run_metadata)\u001b[0m\n\u001b[0;32m    980\u001b[0m     \u001b[1;32mif\u001b[0m \u001b[0mfinal_fetches\u001b[0m \u001b[1;32mor\u001b[0m \u001b[0mfinal_targets\u001b[0m\u001b[1;33m:\u001b[0m\u001b[1;33m\u001b[0m\u001b[0m\n\u001b[0;32m    981\u001b[0m       results = self._do_run(handle, final_targets, final_fetches,\n\u001b[1;32m--> 982\u001b[1;33m                              feed_dict_string, options, run_metadata)\n\u001b[0m\u001b[0;32m    983\u001b[0m     \u001b[1;32melse\u001b[0m\u001b[1;33m:\u001b[0m\u001b[1;33m\u001b[0m\u001b[0m\n\u001b[0;32m    984\u001b[0m       \u001b[0mresults\u001b[0m \u001b[1;33m=\u001b[0m \u001b[1;33m[\u001b[0m\u001b[1;33m]\u001b[0m\u001b[1;33m\u001b[0m\u001b[0m\n",
      "\u001b[1;32m~\\AppData\\Local\\Continuum\\Anaconda3\\lib\\site-packages\\tensorflow\\python\\client\\session.py\u001b[0m in \u001b[0;36m_do_run\u001b[1;34m(self, handle, target_list, fetch_list, feed_dict, options, run_metadata)\u001b[0m\n\u001b[0;32m   1030\u001b[0m     \u001b[1;32mif\u001b[0m \u001b[0mhandle\u001b[0m \u001b[1;32mis\u001b[0m \u001b[1;32mNone\u001b[0m\u001b[1;33m:\u001b[0m\u001b[1;33m\u001b[0m\u001b[0m\n\u001b[0;32m   1031\u001b[0m       return self._do_call(_run_fn, self._session, feed_dict, fetch_list,\n\u001b[1;32m-> 1032\u001b[1;33m                            target_list, options, run_metadata)\n\u001b[0m\u001b[0;32m   1033\u001b[0m     \u001b[1;32melse\u001b[0m\u001b[1;33m:\u001b[0m\u001b[1;33m\u001b[0m\u001b[0m\n\u001b[0;32m   1034\u001b[0m       return self._do_call(_prun_fn, self._session, handle, feed_dict,\n",
      "\u001b[1;32m~\\AppData\\Local\\Continuum\\Anaconda3\\lib\\site-packages\\tensorflow\\python\\client\\session.py\u001b[0m in \u001b[0;36m_do_call\u001b[1;34m(self, fn, *args)\u001b[0m\n\u001b[0;32m   1037\u001b[0m   \u001b[1;32mdef\u001b[0m \u001b[0m_do_call\u001b[0m\u001b[1;33m(\u001b[0m\u001b[0mself\u001b[0m\u001b[1;33m,\u001b[0m \u001b[0mfn\u001b[0m\u001b[1;33m,\u001b[0m \u001b[1;33m*\u001b[0m\u001b[0margs\u001b[0m\u001b[1;33m)\u001b[0m\u001b[1;33m:\u001b[0m\u001b[1;33m\u001b[0m\u001b[0m\n\u001b[0;32m   1038\u001b[0m     \u001b[1;32mtry\u001b[0m\u001b[1;33m:\u001b[0m\u001b[1;33m\u001b[0m\u001b[0m\n\u001b[1;32m-> 1039\u001b[1;33m       \u001b[1;32mreturn\u001b[0m \u001b[0mfn\u001b[0m\u001b[1;33m(\u001b[0m\u001b[1;33m*\u001b[0m\u001b[0margs\u001b[0m\u001b[1;33m)\u001b[0m\u001b[1;33m\u001b[0m\u001b[0m\n\u001b[0m\u001b[0;32m   1040\u001b[0m     \u001b[1;32mexcept\u001b[0m \u001b[0merrors\u001b[0m\u001b[1;33m.\u001b[0m\u001b[0mOpError\u001b[0m \u001b[1;32mas\u001b[0m \u001b[0me\u001b[0m\u001b[1;33m:\u001b[0m\u001b[1;33m\u001b[0m\u001b[0m\n\u001b[0;32m   1041\u001b[0m       \u001b[0mmessage\u001b[0m \u001b[1;33m=\u001b[0m \u001b[0mcompat\u001b[0m\u001b[1;33m.\u001b[0m\u001b[0mas_text\u001b[0m\u001b[1;33m(\u001b[0m\u001b[0me\u001b[0m\u001b[1;33m.\u001b[0m\u001b[0mmessage\u001b[0m\u001b[1;33m)\u001b[0m\u001b[1;33m\u001b[0m\u001b[0m\n",
      "\u001b[1;32m~\\AppData\\Local\\Continuum\\Anaconda3\\lib\\site-packages\\tensorflow\\python\\client\\session.py\u001b[0m in \u001b[0;36m_run_fn\u001b[1;34m(session, feed_dict, fetch_list, target_list, options, run_metadata)\u001b[0m\n\u001b[0;32m   1019\u001b[0m         return tf_session.TF_Run(session, options,\n\u001b[0;32m   1020\u001b[0m                                  \u001b[0mfeed_dict\u001b[0m\u001b[1;33m,\u001b[0m \u001b[0mfetch_list\u001b[0m\u001b[1;33m,\u001b[0m \u001b[0mtarget_list\u001b[0m\u001b[1;33m,\u001b[0m\u001b[1;33m\u001b[0m\u001b[0m\n\u001b[1;32m-> 1021\u001b[1;33m                                  status, run_metadata)\n\u001b[0m\u001b[0;32m   1022\u001b[0m \u001b[1;33m\u001b[0m\u001b[0m\n\u001b[0;32m   1023\u001b[0m     \u001b[1;32mdef\u001b[0m \u001b[0m_prun_fn\u001b[0m\u001b[1;33m(\u001b[0m\u001b[0msession\u001b[0m\u001b[1;33m,\u001b[0m \u001b[0mhandle\u001b[0m\u001b[1;33m,\u001b[0m \u001b[0mfeed_dict\u001b[0m\u001b[1;33m,\u001b[0m \u001b[0mfetch_list\u001b[0m\u001b[1;33m)\u001b[0m\u001b[1;33m:\u001b[0m\u001b[1;33m\u001b[0m\u001b[0m\n",
      "\u001b[1;31mKeyboardInterrupt\u001b[0m: "
=======
      "(15930, 224, 224, 3)\n",
      "(15930, 2)\n",
      "Train on 12744 samples, validate on 3186 samples\n",
      "Epoch 1/100\n",
      "Epoch 00000: val_loss improved from inf to 16.11810, saving model to CNN.weights.best.hdf5\n",
      "92s - loss: 2.7260 - acc: 0.8300 - val_loss: 16.1181 - val_acc: 0.0000e+00\n",
      "Epoch 2/100\n",
      "Epoch 00001: val_loss did not improve\n",
      "87s - loss: 2.7294 - acc: 0.8307 - val_loss: 16.1181 - val_acc: 0.0000e+00\n",
      "Epoch 3/100\n",
      "Epoch 00002: val_loss did not improve\n",
      "87s - loss: 2.7294 - acc: 0.8307 - val_loss: 16.1181 - val_acc: 0.0000e+00\n",
      "Epoch 4/100\n",
      "Epoch 00003: val_loss did not improve\n",
      "87s - loss: 2.7294 - acc: 0.8307 - val_loss: 16.1181 - val_acc: 0.0000e+00\n",
      "Epoch 5/100\n",
      "Epoch 00004: val_loss did not improve\n",
      "88s - loss: 2.7294 - acc: 0.8307 - val_loss: 16.1181 - val_acc: 0.0000e+00\n",
      "Epoch 6/100\n",
      "Epoch 00005: val_loss did not improve\n",
      "87s - loss: 2.7294 - acc: 0.8307 - val_loss: 16.1181 - val_acc: 0.0000e+00\n",
      "Epoch 7/100\n",
      "Epoch 00006: val_loss did not improve\n",
      "87s - loss: 2.7294 - acc: 0.8307 - val_loss: 16.1181 - val_acc: 0.0000e+00\n",
      "Epoch 8/100\n"
>>>>>>> 3f4a816e8be94acac433be049285fd8ae376a62e
     ]
    }
   ],
   "source": [
    "print(train_images.shape)\n",
    "print(train_labels.shape)\n",
    "\n",
    "model.compile(loss='categorical_crossentropy', optimizer='rmsprop', metrics=['accuracy'])\n",
    "checkpointer = ModelCheckpoint(filepath='CNN.weights.best.hdf5', verbose=1, save_best_only=True)\n",
    "hist = model.fit(train_images, train_labels, batch_size=32, epochs=100,\n",
    "                 validation_split=0.2, callbacks=[checkpointer], verbose=2, shuffle=True)"
   ]
  },
  {
   "cell_type": "code",
   "execution_count": null,
   "metadata": {},
   "outputs": [],
   "source": [
    "model.load_weights('CNN.weights.best.hdf5')"
   ]
  },
  {
   "cell_type": "code",
   "execution_count": null,
   "metadata": {},
   "outputs": [],
   "source": [
    "score = model.evaluate(test_images_human, test_labels_human)\n",
    "print('human images test accuracy: {}'.format(score))\n",
    "score = model.evaluate(test_images_dogs, test_labels_dogs)\n",
    "print('dog images test accuracy: {}'.format(score))"
   ]
  },
  {
   "cell_type": "markdown",
   "metadata": {},
   "source": [
    "larger CNN:\n",
    "-----------\n",
    "200/200 [==============================] - 0s     \n",
    "human images test accuracy: [16.118095397949219, 0.0]\n",
    "192/200 [===========================>..] - ETA: 0sdog images test accuracy: [1.1920930376163597e-07, 1.0]\n",
    "\n",
    "Layer (type)                 Output Shape              Param #   \n",
    "=================================================================\n",
    "conv2d_7 (Conv2D)            (None, 224, 224, 64)      1792      \n",
    "_________________________________________________________________\n",
    "max_pooling2d_7 (MaxPooling2 (None, 112, 112, 64)      0         \n",
    "_________________________________________________________________\n",
    "conv2d_8 (Conv2D)            (None, 112, 112, 128)     73856     \n",
    "_________________________________________________________________\n",
    "max_pooling2d_8 (MaxPooling2 (None, 56, 56, 128)       0         \n",
    "_________________________________________________________________\n",
    "conv2d_9 (Conv2D)            (None, 56, 56, 256)       295168    \n",
    "_________________________________________________________________\n",
    "max_pooling2d_9 (MaxPooling2 (None, 28, 28, 256)       0         \n",
    "_________________________________________________________________\n",
    "dropout_5 (Dropout)          (None, 28, 28, 256)       0         \n",
    "_________________________________________________________________\n",
    "flatten_3 (Flatten)          (None, 200704)            0         \n",
    "_________________________________________________________________\n",
    "dense_5 (Dense)              (None, 500)               100352500 \n",
    "_________________________________________________________________\n",
    "dropout_6 (Dropout)          (None, 500)               0         \n",
    "_________________________________________________________________\n",
    "dense_6 (Dense)              (None, 2)                 1002      \n",
    "=================================================================\n",
    "Total params: 100,724,318\n",
    "Trainable params: 100,724,318\n",
    "Non-trainable params: 0\n",
    "\n",
    "\n"
   ]
  },
  {
   "cell_type": "markdown",
   "metadata": {},
   "source": [
    "---\n",
    "<a id='step2'></a>\n",
    "## Step 2: Detect Dogs\n",
    "\n",
    "In this section, we use a pre-trained [ResNet-50](http://ethereon.github.io/netscope/#/gist/db945b393d40bfa26006) model to detect dogs in images.  Our first line of code downloads the ResNet-50 model, along with weights that have been trained on [ImageNet](http://www.image-net.org/), a very large, very popular dataset used for image classification and other vision tasks.  ImageNet contains over 10 million URLs, each linking to an image containing an object from one of [1000 categories](https://gist.github.com/yrevar/942d3a0ac09ec9e5eb3a).  Given an image, this pre-trained ResNet-50 model returns a prediction (derived from the available categories in ImageNet) for the object that is contained in the image."
   ]
  },
  {
   "cell_type": "code",
   "execution_count": null,
   "metadata": {},
   "outputs": [],
   "source": [
    "from keras.applications.resnet50 import ResNet50\n",
    "\n",
    "# define ResNet50 model\n",
    "ResNet50_model = ResNet50(weights='imagenet')"
   ]
  },
  {
   "cell_type": "markdown",
   "metadata": {},
   "source": [
    "### Pre-process the Data\n",
    "\n",
    "When using TensorFlow as backend, Keras CNNs require a 4D array (which we'll also refer to as a 4D tensor) as input, with shape\n",
    "\n",
    "$$\n",
    "(\\text{nb_samples}, \\text{rows}, \\text{columns}, \\text{channels}),\n",
    "$$\n",
    "\n",
    "where `nb_samples` corresponds to the total number of images (or samples), and `rows`, `columns`, and `channels` correspond to the number of rows, columns, and channels for each image, respectively.  \n",
    "\n",
    "The `path_to_tensor` function below takes a string-valued file path to a color image as input and returns a 4D tensor suitable for supplying to a Keras CNN.  The function first loads the image and resizes it to a square image that is $224 \\times 224$ pixels.  Next, the image is converted to an array, which is then resized to a 4D tensor.  In this case, since we are working with color images, each image has three channels.  Likewise, since we are processing a single image (or sample), the returned tensor will always have shape\n",
    "\n",
    "$$\n",
    "(1, 224, 224, 3).\n",
    "$$\n",
    "\n",
    "The `paths_to_tensor` function takes a numpy array of string-valued image paths as input and returns a 4D tensor with shape \n",
    "\n",
    "$$\n",
    "(\\text{nb_samples}, 224, 224, 3).\n",
    "$$\n",
    "\n",
    "Here, `nb_samples` is the number of samples, or number of images, in the supplied array of image paths.  It is best to think of `nb_samples` as the number of 3D tensors (where each 3D tensor corresponds to a different image) in your dataset!"
   ]
  },
  {
   "cell_type": "code",
   "execution_count": null,
   "metadata": {},
   "outputs": [],
   "source": [
    "from keras.preprocessing import image                  \n",
    "from tqdm import tqdm\n",
    "\n",
    "def path_to_tensor(img_path):\n",
    "    # loads RGB image as PIL.Image.Image type\n",
    "    img = image.load_img(img_path, target_size=(224, 224))\n",
    "    # convert PIL.Image.Image type to 3D tensor with shape (224, 224, 3)\n",
    "    x = image.img_to_array(img)\n",
    "    # convert 3D tensor to 4D tensor with shape (1, 224, 224, 3) and return 4D tensor\n",
    "    return np.expand_dims(x, axis=0)\n",
    "\n",
    "def paths_to_tensor(img_paths):\n",
    "    list_of_tensors = [path_to_tensor(img_path) for img_path in tqdm(img_paths)]\n",
    "    return np.vstack(list_of_tensors)"
   ]
  },
  {
   "cell_type": "markdown",
   "metadata": {},
   "source": [
    "### Making Predictions with ResNet-50\n",
    "\n",
    "Getting the 4D tensor ready for ResNet-50, and for any other pre-trained model in Keras, requires some additional processing.  First, the RGB image is converted to BGR by reordering the channels.  All pre-trained models have the additional normalization step that the mean pixel (expressed in RGB as $[103.939, 116.779, 123.68]$ and calculated from all pixels in all images in ImageNet) must be subtracted from every pixel in each image.  This is implemented in the imported function `preprocess_input`.  If you're curious, you can check the code for `preprocess_input` [here](https://github.com/fchollet/keras/blob/master/keras/applications/imagenet_utils.py).\n",
    "\n",
    "Now that we have a way to format our image for supplying to ResNet-50, we are now ready to use the model to extract the predictions.  This is accomplished with the `predict` method, which returns an array whose $i$-th entry is the model's predicted probability that the image belongs to the $i$-th ImageNet category.  This is implemented in the `ResNet50_predict_labels` function below.\n",
    "\n",
    "By taking the argmax of the predicted probability vector, we obtain an integer corresponding to the model's predicted object class, which we can identify with an object category through the use of this [dictionary](https://gist.github.com/yrevar/942d3a0ac09ec9e5eb3a). "
   ]
  },
  {
   "cell_type": "code",
   "execution_count": null,
   "metadata": {},
   "outputs": [],
   "source": [
    "from keras.applications.resnet50 import preprocess_input, decode_predictions\n",
    "\n",
    "def ResNet50_predict_labels(img_path):\n",
    "    # returns prediction vector for image located at img_path\n",
    "    img = preprocess_input(path_to_tensor(img_path))\n",
    "    return np.argmax(ResNet50_model.predict(img))"
   ]
  },
  {
   "cell_type": "markdown",
   "metadata": {},
   "source": [
    "### Write a Dog Detector\n",
    "\n",
    "While looking at the [dictionary](https://gist.github.com/yrevar/942d3a0ac09ec9e5eb3a), you will notice that the categories corresponding to dogs appear in an uninterrupted sequence and correspond to dictionary keys 151-268, inclusive, to include all categories from `'Chihuahua'` to `'Mexican hairless'`.  Thus, in order to check to see if an image is predicted to contain a dog by the pre-trained ResNet-50 model, we need only check if the `ResNet50_predict_labels` function above returns a value between 151 and 268 (inclusive).\n",
    "\n",
    "We use these ideas to complete the `dog_detector` function below, which returns `True` if a dog is detected in an image (and `False` if not)."
   ]
  },
  {
   "cell_type": "code",
   "execution_count": null,
   "metadata": {},
   "outputs": [],
   "source": [
    "### returns \"True\" if a dog is detected in the image stored at img_path\n",
    "def dog_detector(img_path):\n",
    "    prediction = ResNet50_predict_labels(img_path)\n",
    "    return ((prediction <= 268) & (prediction >= 151)) "
   ]
  },
  {
   "cell_type": "markdown",
   "metadata": {},
   "source": [
    "### (IMPLEMENTATION) Assess the Dog Detector\n",
    "\n",
    "__Question 3:__ Use the code cell below to test the performance of your `dog_detector` function.  \n",
    "- What percentage of the images in `human_files_short` have a detected dog?  \n",
    "- What percentage of the images in `dog_files_short` have a detected dog?\n",
    "\n",
    "__Answer:__ "
   ]
  },
  {
   "cell_type": "code",
   "execution_count": null,
   "metadata": {},
   "outputs": [],
   "source": [
    "### TODO: Test the performance of the dog_detector function\n",
    "### on the images in human_files_short and dog_files_short."
   ]
  },
  {
   "cell_type": "markdown",
   "metadata": {},
   "source": [
    "---\n",
    "<a id='step3'></a>\n",
    "## Step 3: Create a CNN to Classify Dog Breeds (from Scratch)\n",
    "\n",
    "Now that we have functions for detecting humans and dogs in images, we need a way to predict breed from images.  In this step, you will create a CNN that classifies dog breeds.  You must create your CNN _from scratch_ (so, you can't use transfer learning _yet_!), and you must attain a test accuracy of at least 1%.  In Step 5 of this notebook, you will have the opportunity to use transfer learning to create a CNN that attains greatly improved accuracy.\n",
    "\n",
    "Be careful with adding too many trainable layers!  More parameters means longer training, which means you are more likely to need a GPU to accelerate the training process.  Thankfully, Keras provides a handy estimate of the time that each epoch is likely to take; you can extrapolate this estimate to figure out how long it will take for your algorithm to train. \n",
    "\n",
    "We mention that the task of assigning breed to dogs from images is considered exceptionally challenging.  To see why, consider that *even a human* would have great difficulty in distinguishing between a Brittany and a Welsh Springer Spaniel.  \n",
    "\n",
    "Brittany | Welsh Springer Spaniel\n",
    "- | - \n",
    "<img src=\"images/Brittany_02625.jpg\" width=\"100\"> | <img src=\"images/Welsh_springer_spaniel_08203.jpg\" width=\"200\">\n",
    "\n",
    "It is not difficult to find other dog breed pairs with minimal inter-class variation (for instance, Curly-Coated Retrievers and American Water Spaniels).  \n",
    "\n",
    "Curly-Coated Retriever | American Water Spaniel\n",
    "- | -\n",
    "<img src=\"images/Curly-coated_retriever_03896.jpg\" width=\"200\"> | <img src=\"images/American_water_spaniel_00648.jpg\" width=\"200\">\n",
    "\n",
    "\n",
    "Likewise, recall that labradors come in yellow, chocolate, and black.  Your vision-based algorithm will have to conquer this high intra-class variation to determine how to classify all of these different shades as the same breed.  \n",
    "\n",
    "Yellow Labrador | Chocolate Labrador | Black Labrador\n",
    "- | -\n",
    "<img src=\"images/Labrador_retriever_06457.jpg\" width=\"150\"> | <img src=\"images/Labrador_retriever_06455.jpg\" width=\"240\"> | <img src=\"images/Labrador_retriever_06449.jpg\" width=\"220\">\n",
    "\n",
    "We also mention that random chance presents an exceptionally low bar: setting aside the fact that the classes are slightly imabalanced, a random guess will provide a correct answer roughly 1 in 133 times, which corresponds to an accuracy of less than 1%.  \n",
    "\n",
    "Remember that the practice is far ahead of the theory in deep learning.  Experiment with many different architectures, and trust your intuition.  And, of course, have fun! \n",
    "\n",
    "### Pre-process the Data\n",
    "\n",
    "We rescale the images by dividing every pixel in every image by 255."
   ]
  },
  {
   "cell_type": "code",
   "execution_count": null,
   "metadata": {},
   "outputs": [],
   "source": [
    "from PIL import ImageFile                            \n",
    "ImageFile.LOAD_TRUNCATED_IMAGES = True                 \n",
    "\n",
    "# pre-process the data for Keras\n",
    "train_tensors = paths_to_tensor(train_files).astype('float32')/255\n",
    "valid_tensors = paths_to_tensor(valid_files).astype('float32')/255\n",
    "test_tensors = paths_to_tensor(test_files).astype('float32')/255"
   ]
  },
  {
   "cell_type": "markdown",
   "metadata": {},
   "source": [
    "### (IMPLEMENTATION) Model Architecture\n",
    "\n",
    "Create a CNN to classify dog breed.  At the end of your code cell block, summarize the layers of your model by executing the line:\n",
    "    \n",
    "        model.summary()\n",
    "\n",
    "We have imported some Python modules to get you started, but feel free to import as many modules as you need.  If you end up getting stuck, here's a hint that specifies a model that trains relatively fast on CPU and attains >1% test accuracy in 5 epochs:\n",
    "\n",
    "![Sample CNN](images/sample_cnn.png)\n",
    "           \n",
    "__Question 4:__ Outline the steps you took to get to your final CNN architecture and your reasoning at each step.  If you chose to use the hinted architecture above, describe why you think that CNN architecture should work well for the image classification task.\n",
    "\n",
    "__Answer:__ "
   ]
  },
  {
   "cell_type": "code",
   "execution_count": null,
   "metadata": {},
   "outputs": [],
   "source": [
    "from keras.layers import Conv2D, MaxPooling2D, GlobalAveragePooling2D\n",
    "from keras.layers import Dropout, Flatten, Dense\n",
    "from keras.models import Sequential\n",
    "\n",
    "model = Sequential()\n",
    "\n",
    "### TODO: Define your architecture.\n",
    "\n",
    "model.summary()"
   ]
  },
  {
   "cell_type": "markdown",
   "metadata": {},
   "source": [
    "### Compile the Model"
   ]
  },
  {
   "cell_type": "code",
   "execution_count": null,
   "metadata": {},
   "outputs": [],
   "source": [
    "model.compile(optimizer='rmsprop', loss='categorical_crossentropy', metrics=['accuracy'])"
   ]
  },
  {
   "cell_type": "markdown",
   "metadata": {},
   "source": [
    "### (IMPLEMENTATION) Train the Model\n",
    "\n",
    "Train your model in the code cell below.  Use model checkpointing to save the model that attains the best validation loss.\n",
    "\n",
    "You are welcome to [augment the training data](https://blog.keras.io/building-powerful-image-classification-models-using-very-little-data.html), but this is not a requirement. "
   ]
  },
  {
   "cell_type": "code",
   "execution_count": null,
   "metadata": {},
   "outputs": [],
   "source": [
    "from keras.callbacks import ModelCheckpoint  \n",
    "\n",
    "### TODO: specify the number of epochs that you would like to use to train the model.\n",
    "\n",
    "epochs = ...\n",
    "\n",
    "### Do NOT modify the code below this line.\n",
    "\n",
    "checkpointer = ModelCheckpoint(filepath='saved_models/weights.best.from_scratch.hdf5', \n",
    "                               verbose=1, save_best_only=True)\n",
    "\n",
    "model.fit(train_tensors, train_targets, \n",
    "          validation_data=(valid_tensors, valid_targets),\n",
    "          epochs=epochs, batch_size=20, callbacks=[checkpointer], verbose=1)"
   ]
  },
  {
   "cell_type": "markdown",
   "metadata": {},
   "source": [
    "### Load the Model with the Best Validation Loss"
   ]
  },
  {
   "cell_type": "code",
   "execution_count": null,
   "metadata": {},
   "outputs": [],
   "source": [
    "model.load_weights('saved_models/weights.best.from_scratch.hdf5')"
   ]
  },
  {
   "cell_type": "markdown",
   "metadata": {},
   "source": [
    "### Test the Model\n",
    "\n",
    "Try out your model on the test dataset of dog images.  Ensure that your test accuracy is greater than 1%."
   ]
  },
  {
   "cell_type": "code",
   "execution_count": null,
   "metadata": {},
   "outputs": [],
   "source": [
    "# get index of predicted dog breed for each image in test set\n",
    "dog_breed_predictions = [np.argmax(model.predict(np.expand_dims(tensor, axis=0))) for tensor in test_tensors]\n",
    "\n",
    "# report test accuracy\n",
    "test_accuracy = 100*np.sum(np.array(dog_breed_predictions)==np.argmax(test_targets, axis=1))/len(dog_breed_predictions)\n",
    "print('Test accuracy: %.4f%%' % test_accuracy)"
   ]
  },
  {
   "cell_type": "markdown",
   "metadata": {},
   "source": [
    "---\n",
    "<a id='step4'></a>\n",
    "## Step 4: Use a CNN to Classify Dog Breeds\n",
    "\n",
    "To reduce training time without sacrificing accuracy, we show you how to train a CNN using transfer learning.  In the following step, you will get a chance to use transfer learning to train your own CNN.\n",
    "\n",
    "### Obtain Bottleneck Features"
   ]
  },
  {
   "cell_type": "code",
   "execution_count": null,
   "metadata": {},
   "outputs": [],
   "source": [
    "bottleneck_features = np.load('bottleneck_features/DogVGG16Data.npz')\n",
    "train_VGG16 = bottleneck_features['train']\n",
    "valid_VGG16 = bottleneck_features['valid']\n",
    "test_VGG16 = bottleneck_features['test']"
   ]
  },
  {
   "cell_type": "markdown",
   "metadata": {},
   "source": [
    "### Model Architecture\n",
    "\n",
    "The model uses the the pre-trained VGG-16 model as a fixed feature extractor, where the last convolutional output of VGG-16 is fed as input to our model.  We only add a global average pooling layer and a fully connected layer, where the latter contains one node for each dog category and is equipped with a softmax."
   ]
  },
  {
   "cell_type": "code",
   "execution_count": null,
   "metadata": {},
   "outputs": [],
   "source": [
    "VGG16_model = Sequential()\n",
    "VGG16_model.add(GlobalAveragePooling2D(input_shape=train_VGG16.shape[1:]))\n",
    "VGG16_model.add(Dense(133, activation='softmax'))\n",
    "\n",
    "VGG16_model.summary()"
   ]
  },
  {
   "cell_type": "markdown",
   "metadata": {},
   "source": [
    "### Compile the Model"
   ]
  },
  {
   "cell_type": "code",
   "execution_count": null,
   "metadata": {},
   "outputs": [],
   "source": [
    "VGG16_model.compile(loss='categorical_crossentropy', optimizer='rmsprop', metrics=['accuracy'])"
   ]
  },
  {
   "cell_type": "markdown",
   "metadata": {},
   "source": [
    "### Train the Model"
   ]
  },
  {
   "cell_type": "code",
   "execution_count": null,
   "metadata": {},
   "outputs": [],
   "source": [
    "checkpointer = ModelCheckpoint(filepath='saved_models/weights.best.VGG16.hdf5', \n",
    "                               verbose=1, save_best_only=True)\n",
    "\n",
    "VGG16_model.fit(train_VGG16, train_targets, \n",
    "          validation_data=(valid_VGG16, valid_targets),\n",
    "          epochs=20, batch_size=20, callbacks=[checkpointer], verbose=1)"
   ]
  },
  {
   "cell_type": "markdown",
   "metadata": {},
   "source": [
    "### Load the Model with the Best Validation Loss"
   ]
  },
  {
   "cell_type": "code",
   "execution_count": null,
   "metadata": {},
   "outputs": [],
   "source": [
    "VGG16_model.load_weights('saved_models/weights.best.VGG16.hdf5')"
   ]
  },
  {
   "cell_type": "markdown",
   "metadata": {},
   "source": [
    "### Test the Model\n",
    "\n",
    "Now, we can use the CNN to test how well it identifies breed within our test dataset of dog images.  We print the test accuracy below."
   ]
  },
  {
   "cell_type": "code",
   "execution_count": null,
   "metadata": {},
   "outputs": [],
   "source": [
    "# get index of predicted dog breed for each image in test set\n",
    "VGG16_predictions = [np.argmax(VGG16_model.predict(np.expand_dims(feature, axis=0))) for feature in test_VGG16]\n",
    "\n",
    "# report test accuracy\n",
    "test_accuracy = 100*np.sum(np.array(VGG16_predictions)==np.argmax(test_targets, axis=1))/len(VGG16_predictions)\n",
    "print('Test accuracy: %.4f%%' % test_accuracy)"
   ]
  },
  {
   "cell_type": "markdown",
   "metadata": {},
   "source": [
    "### Predict Dog Breed with the Model"
   ]
  },
  {
   "cell_type": "code",
   "execution_count": null,
   "metadata": {},
   "outputs": [],
   "source": [
    "from extract_bottleneck_features import *\n",
    "\n",
    "def VGG16_predict_breed(img_path):\n",
    "    # extract bottleneck features\n",
    "    bottleneck_feature = extract_VGG16(path_to_tensor(img_path))\n",
    "    # obtain predicted vector\n",
    "    predicted_vector = VGG16_model.predict(bottleneck_feature)\n",
    "    # return dog breed that is predicted by the model\n",
    "    return dog_names[np.argmax(predicted_vector)]"
   ]
  },
  {
   "cell_type": "markdown",
   "metadata": {},
   "source": [
    "---\n",
    "<a id='step5'></a>\n",
    "## Step 5: Create a CNN to Classify Dog Breeds (using Transfer Learning)\n",
    "\n",
    "You will now use transfer learning to create a CNN that can identify dog breed from images.  Your CNN must attain at least 60% accuracy on the test set.\n",
    "\n",
    "In Step 4, we used transfer learning to create a CNN using VGG-16 bottleneck features.  In this section, you must use the bottleneck features from a different pre-trained model.  To make things easier for you, we have pre-computed the features for all of the networks that are currently available in Keras:\n",
    "- [VGG-19](https://s3-us-west-1.amazonaws.com/udacity-aind/dog-project/DogVGG19Data.npz) bottleneck features\n",
    "- [ResNet-50](https://s3-us-west-1.amazonaws.com/udacity-aind/dog-project/DogResnet50Data.npz) bottleneck features\n",
    "- [Inception](https://s3-us-west-1.amazonaws.com/udacity-aind/dog-project/DogInceptionV3Data.npz) bottleneck features\n",
    "- [Xception](https://s3-us-west-1.amazonaws.com/udacity-aind/dog-project/DogXceptionData.npz) bottleneck features\n",
    "\n",
    "The files are encoded as such:\n",
    "\n",
    "    Dog{network}Data.npz\n",
    "    \n",
    "where `{network}`, in the above filename, can be one of `VGG19`, `Resnet50`, `InceptionV3`, or `Xception`.  Pick one of the above architectures, download the corresponding bottleneck features, and store the downloaded file in the `bottleneck_features/` folder in the repository.\n",
    "\n",
    "### (IMPLEMENTATION) Obtain Bottleneck Features\n",
    "\n",
    "In the code block below, extract the bottleneck features corresponding to the train, test, and validation sets by running the following:\n",
    "\n",
    "    bottleneck_features = np.load('bottleneck_features/Dog{network}Data.npz')\n",
    "    train_{network} = bottleneck_features['train']\n",
    "    valid_{network} = bottleneck_features['valid']\n",
    "    test_{network} = bottleneck_features['test']"
   ]
  },
  {
   "cell_type": "code",
   "execution_count": null,
   "metadata": {},
   "outputs": [],
   "source": [
    "### TODO: Obtain bottleneck features from another pre-trained CNN."
   ]
  },
  {
   "cell_type": "markdown",
   "metadata": {},
   "source": [
    "### (IMPLEMENTATION) Model Architecture\n",
    "\n",
    "Create a CNN to classify dog breed.  At the end of your code cell block, summarize the layers of your model by executing the line:\n",
    "    \n",
    "        <your model's name>.summary()\n",
    "   \n",
    "__Question 5:__ Outline the steps you took to get to your final CNN architecture and your reasoning at each step.  Describe why you think the architecture is suitable for the current problem.\n",
    "\n",
    "__Answer:__ \n",
    "\n"
   ]
  },
  {
   "cell_type": "code",
   "execution_count": null,
   "metadata": {},
   "outputs": [],
   "source": [
    "### TODO: Define your architecture."
   ]
  },
  {
   "cell_type": "markdown",
   "metadata": {},
   "source": [
    "### (IMPLEMENTATION) Compile the Model"
   ]
  },
  {
   "cell_type": "code",
   "execution_count": null,
   "metadata": {},
   "outputs": [],
   "source": [
    "### TODO: Compile the model."
   ]
  },
  {
   "cell_type": "markdown",
   "metadata": {},
   "source": [
    "### (IMPLEMENTATION) Train the Model\n",
    "\n",
    "Train your model in the code cell below.  Use model checkpointing to save the model that attains the best validation loss.  \n",
    "\n",
    "You are welcome to [augment the training data](https://blog.keras.io/building-powerful-image-classification-models-using-very-little-data.html), but this is not a requirement. "
   ]
  },
  {
   "cell_type": "code",
   "execution_count": null,
   "metadata": {},
   "outputs": [],
   "source": [
    "### TODO: Train the model."
   ]
  },
  {
   "cell_type": "markdown",
   "metadata": {},
   "source": [
    "### (IMPLEMENTATION) Load the Model with the Best Validation Loss"
   ]
  },
  {
   "cell_type": "code",
   "execution_count": null,
   "metadata": {},
   "outputs": [],
   "source": [
    "### TODO: Load the model weights with the best validation loss."
   ]
  },
  {
   "cell_type": "markdown",
   "metadata": {},
   "source": [
    "### (IMPLEMENTATION) Test the Model\n",
    "\n",
    "Try out your model on the test dataset of dog images. Ensure that your test accuracy is greater than 60%."
   ]
  },
  {
   "cell_type": "code",
   "execution_count": null,
   "metadata": {},
   "outputs": [],
   "source": [
    "### TODO: Calculate classification accuracy on the test dataset."
   ]
  },
  {
   "cell_type": "markdown",
   "metadata": {},
   "source": [
    "### (IMPLEMENTATION) Predict Dog Breed with the Model\n",
    "\n",
    "Write a function that takes an image path as input and returns the dog breed (`Affenpinscher`, `Afghan_hound`, etc) that is predicted by your model.  \n",
    "\n",
    "Similar to the analogous function in Step 5, your function should have three steps:\n",
    "1. Extract the bottleneck features corresponding to the chosen CNN model.\n",
    "2. Supply the bottleneck features as input to the model to return the predicted vector.  Note that the argmax of this prediction vector gives the index of the predicted dog breed.\n",
    "3. Use the `dog_names` array defined in Step 0 of this notebook to return the corresponding breed.\n",
    "\n",
    "The functions to extract the bottleneck features can be found in `extract_bottleneck_features.py`, and they have been imported in an earlier code cell.  To obtain the bottleneck features corresponding to your chosen CNN architecture, you need to use the function\n",
    "\n",
    "    extract_{network}\n",
    "    \n",
    "where `{network}`, in the above filename, should be one of `VGG19`, `Resnet50`, `InceptionV3`, or `Xception`."
   ]
  },
  {
   "cell_type": "code",
   "execution_count": null,
   "metadata": {},
   "outputs": [],
   "source": [
    "### TODO: Write a function that takes a path to an image as input\n",
    "### and returns the dog breed that is predicted by the model."
   ]
  },
  {
   "cell_type": "markdown",
   "metadata": {},
   "source": [
    "---\n",
    "<a id='step6'></a>\n",
    "## Step 6: Write your Algorithm\n",
    "\n",
    "Write an algorithm that accepts a file path to an image and first determines whether the image contains a human, dog, or neither.  Then,\n",
    "- if a __dog__ is detected in the image, return the predicted breed.\n",
    "- if a __human__ is detected in the image, return the resembling dog breed.\n",
    "- if __neither__ is detected in the image, provide output that indicates an error.\n",
    "\n",
    "You are welcome to write your own functions for detecting humans and dogs in images, but feel free to use the `face_detector` and `dog_detector` functions developed above.  You are __required__ to use your CNN from Step 5 to predict dog breed.  \n",
    "\n",
    "Some sample output for our algorithm is provided below, but feel free to design your own user experience!\n",
    "\n",
    "![Sample Human Output](images/sample_human_output.png)\n",
    "\n",
    "\n",
    "### (IMPLEMENTATION) Write your Algorithm"
   ]
  },
  {
   "cell_type": "code",
   "execution_count": null,
   "metadata": {},
   "outputs": [],
   "source": [
    "### TODO: Write your algorithm.\n",
    "### Feel free to use as many code cells as needed."
   ]
  },
  {
   "cell_type": "markdown",
   "metadata": {},
   "source": [
    "---\n",
    "<a id='step7'></a>\n",
    "## Step 7: Test Your Algorithm\n",
    "\n",
    "In this section, you will take your new algorithm for a spin!  What kind of dog does the algorithm think that __you__ look like?  If you have a dog, does it predict your dog's breed accurately?  If you have a cat, does it mistakenly think that your cat is a dog?\n",
    "\n",
    "### (IMPLEMENTATION) Test Your Algorithm on Sample Images!\n",
    "\n",
    "Test your algorithm at least six images on your computer.  Feel free to use any images you like.  Use at least two human and two dog images.  \n",
    "\n",
    "__Question 6:__ Is the output better than you expected :) ?  Or worse :( ?  Provide at least three possible points of improvement for your algorithm.\n",
    "\n",
    "__Answer:__ "
   ]
  },
  {
   "cell_type": "code",
   "execution_count": null,
   "metadata": {},
   "outputs": [],
   "source": [
    "## TODO: Execute your algorithm from Step 6 on\n",
    "## at least 6 images on your computer.\n",
    "## Feel free to use as many code cells as needed."
   ]
  }
 ],
 "metadata": {
  "anaconda-cloud": {},
  "kernelspec": {
   "display_name": "Python 3",
   "language": "python",
   "name": "python3"
  },
  "language_info": {
   "codemirror_mode": {
    "name": "ipython",
    "version": 3
   },
   "file_extension": ".py",
   "mimetype": "text/x-python",
   "name": "python",
   "nbconvert_exporter": "python",
   "pygments_lexer": "ipython3",
   "version": "3.6.2"
  }
 },
 "nbformat": 4,
 "nbformat_minor": 1
}
