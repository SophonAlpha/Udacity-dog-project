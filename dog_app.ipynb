{
 "cells": [
  {
   "cell_type": "markdown",
   "metadata": {},
   "source": [
    "# Artificial Intelligence Nanodegree\n",
    "\n",
    "## Convolutional Neural Networks\n",
    "\n",
    "## Project: Write an Algorithm for a Dog Identification App \n",
    "\n",
    "---\n",
    "\n",
    "In this notebook, some template code has already been provided for you, and you will need to implement additional functionality to successfully complete this project. You will not need to modify the included code beyond what is requested. Sections that begin with **'(IMPLEMENTATION)'** in the header indicate that the following block of code will require additional functionality which you must provide. Instructions will be provided for each section, and the specifics of the implementation are marked in the code block with a 'TODO' statement. Please be sure to read the instructions carefully! \n",
    "\n",
    "> **Note**: Once you have completed all of the code implementations, you need to finalize your work by exporting the iPython Notebook as an HTML document. Before exporting the notebook to html, all of the code cells need to have been run so that reviewers can see the final implementation and output. You can then export the notebook by using the menu above and navigating to  \\n\",\n",
    "    \"**File -> Download as -> HTML (.html)**. Include the finished document along with this notebook as your submission.\n",
    "\n",
    "In addition to implementing code, there will be questions that you must answer which relate to the project and your implementation. Each section where you will answer a question is preceded by a **'Question X'** header. Carefully read each question and provide thorough answers in the following text boxes that begin with **'Answer:'**. Your project submission will be evaluated based on your answers to each of the questions and the implementation you provide.\n",
    "\n",
    ">**Note:** Code and Markdown cells can be executed using the **Shift + Enter** keyboard shortcut.  Markdown cells can be edited by double-clicking the cell to enter edit mode.\n",
    "\n",
    "The rubric contains _optional_ \"Stand Out Suggestions\" for enhancing the project beyond the minimum requirements. If you decide to pursue the \"Stand Out Suggestions\", you should include the code in this IPython notebook.\n",
    "\n",
    "\n",
    "\n",
    "---\n",
    "### Why We're Here \n",
    "\n",
    "In this notebook, you will make the first steps towards developing an algorithm that could be used as part of a mobile or web app.  At the end of this project, your code will accept any user-supplied image as input.  If a dog is detected in the image, it will provide an estimate of the dog's breed.  If a human is detected, it will provide an estimate of the dog breed that is most resembling.  The image below displays potential sample output of your finished project (... but we expect that each student's algorithm will behave differently!). \n",
    "\n",
    "![Sample Dog Output](images/sample_dog_output.png)\n",
    "\n",
    "In this real-world setting, you will need to piece together a series of models to perform different tasks; for instance, the algorithm that detects humans in an image will be different from the CNN that infers dog breed.  There are many points of possible failure, and no perfect algorithm exists.  Your imperfect solution will nonetheless create a fun user experience!\n",
    "\n",
    "### The Road Ahead\n",
    "\n",
    "We break the notebook into separate steps.  Feel free to use the links below to navigate the notebook.\n",
    "\n",
    "* [Step 0](#step0): Import Datasets\n",
    "* [Step 1](#step1): Detect Humans\n",
    "* [Step 2](#step2): Detect Dogs\n",
    "* [Step 3](#step3): Create a CNN to Classify Dog Breeds (from Scratch)\n",
    "* [Step 4](#step4): Use a CNN to Classify Dog Breeds (using Transfer Learning)\n",
    "* [Step 5](#step5): Create a CNN to Classify Dog Breeds (using Transfer Learning)\n",
    "* [Step 6](#step6): Write your Algorithm\n",
    "* [Step 7](#step7): Test Your Algorithm\n",
    "\n",
    "---\n",
    "<a id='step0'></a>\n",
    "## Step 0: Import Datasets\n",
    "\n",
    "### Import Dog Dataset\n",
    "\n",
    "In the code cell below, we import a dataset of dog images.  We populate a few variables through the use of the `load_files` function from the scikit-learn library:\n",
    "- `train_files`, `valid_files`, `test_files` - numpy arrays containing file paths to images\n",
    "- `train_targets`, `valid_targets`, `test_targets` - numpy arrays containing onehot-encoded classification labels \n",
    "- `dog_names` - list of string-valued dog breed names for translating labels"
   ]
  },
  {
   "cell_type": "code",
   "execution_count": null,
   "metadata": {},
   "outputs": [],
   "source": [
    "from sklearn.datasets import load_files       \n",
    "from keras.utils import np_utils\n",
    "import numpy as np\n",
    "from glob import glob\n",
    "\n",
    "# define function to load train, test, and validation datasets\n",
    "def load_dataset(path):\n",
    "    data = load_files(path)\n",
    "    dog_files = np.array(data['filenames'])\n",
    "    dog_targets = np_utils.to_categorical(np.array(data['target']), 133)\n",
    "    return dog_files, dog_targets\n",
    "\n",
    "# load train, test, and validation datasets\n",
    "train_files, train_targets = load_dataset('dogImages/train')\n",
    "valid_files, valid_targets = load_dataset('dogImages/valid')\n",
    "test_files, test_targets = load_dataset('dogImages/test')\n",
    "\n",
    "# load list of dog names\n",
    "dog_names = [item[20:-1] for item in sorted(glob(\"dogImages/train/*/\"))]\n",
    "\n",
    "# print statistics about the dataset\n",
    "print('There are %d total dog categories.' % len(dog_names))\n",
    "print('There are %s total dog images.\\n' % len(np.hstack([train_files, valid_files, test_files])))\n",
    "print('There are %d training dog images.' % len(train_files))\n",
    "print('There are %d validation dog images.' % len(valid_files))\n",
    "print('There are %d test dog images.'% len(test_files))"
   ]
  },
  {
   "cell_type": "markdown",
   "metadata": {},
   "source": [
    "### Import Human Dataset\n",
    "\n",
    "In the code cell below, we import a dataset of human images, where the file paths are stored in the numpy array `human_files`."
   ]
  },
  {
   "cell_type": "code",
   "execution_count": null,
   "metadata": {},
   "outputs": [],
   "source": [
    "import random\n",
    "random.seed(8675309)\n",
    "\n",
    "# load filenames in shuffled human dataset\n",
    "human_files = np.array(glob(\"lfw/*/*\"))\n",
    "random.shuffle(human_files)\n",
    "\n",
    "# print statistics about the dataset\n",
    "print('There are %d total human images.' % len(human_files))"
   ]
  },
  {
   "cell_type": "markdown",
   "metadata": {},
   "source": [
    "---\n",
    "<a id='step1'></a>\n",
    "## Step 1: Detect Humans\n",
    "\n",
    "We use OpenCV's implementation of [Haar feature-based cascade classifiers](http://docs.opencv.org/trunk/d7/d8b/tutorial_py_face_detection.html) to detect human faces in images.  OpenCV provides many pre-trained face detectors, stored as XML files on [github](https://github.com/opencv/opencv/tree/master/data/haarcascades).  We have downloaded one of these detectors and stored it in the `haarcascades` directory.\n",
    "\n",
    "In the next code cell, we demonstrate how to use this detector to find human faces in a sample image."
   ]
  },
  {
   "cell_type": "code",
   "execution_count": null,
   "metadata": {},
   "outputs": [],
   "source": [
    "import cv2                \n",
    "import matplotlib.pyplot as plt                        \n",
    "%matplotlib inline                               \n",
    "\n",
    "# extract pre-trained face detector\n",
    "face_cascade = cv2.CascadeClassifier('haarcascades/haarcascade_frontalface_alt.xml')\n",
    "\n",
    "# load color (BGR) image\n",
    "img = cv2.imread(human_files[3])\n",
    "print(type(img))\n",
    "print(img.shape)\n",
    "# convert BGR image to grayscale\n",
    "gray = cv2.cvtColor(img, cv2.COLOR_BGR2GRAY)\n",
    "\n",
    "# find faces in image\n",
    "faces = face_cascade.detectMultiScale(gray)\n",
    "\n",
    "# print number of faces detected in the image\n",
    "print('Number of faces detected:', len(faces))\n",
    "\n",
    "# get bounding box for each detected face\n",
    "for (x,y,w,h) in faces:\n",
    "    # add bounding box to color image\n",
    "    cv2.rectangle(img,(x,y),(x+w,y+h),(255,0,0),2)\n",
    "    \n",
    "# convert BGR image to RGB for plotting\n",
    "cv_rgb = cv2.cvtColor(img, cv2.COLOR_BGR2RGB)\n",
    "print(type(cv_rgb))\n",
    "print(cv_rgb.shape)\n",
    "\n",
    "# display the image, along with bounding box\n",
    "plt.imshow(cv_rgb)\n",
    "plt.show()"
   ]
  },
  {
   "cell_type": "markdown",
   "metadata": {},
   "source": [
    "Before using any of the face detectors, it is standard procedure to convert the images to grayscale.  The `detectMultiScale` function executes the classifier stored in `face_cascade` and takes the grayscale image as a parameter.  \n",
    "\n",
    "In the above code, `faces` is a numpy array of detected faces, where each row corresponds to a detected face.  Each detected face is a 1D array with four entries that specifies the bounding box of the detected face.  The first two entries in the array (extracted in the above code as `x` and `y`) specify the horizontal and vertical positions of the top left corner of the bounding box.  The last two entries in the array (extracted here as `w` and `h`) specify the width and height of the box.\n",
    "\n",
    "### Write a Human Face Detector\n",
    "\n",
    "We can use this procedure to write a function that returns `True` if a human face is detected in an image and `False` otherwise.  This function, aptly named `face_detector`, takes a string-valued file path to an image as input and appears in the code block below."
   ]
  },
  {
   "cell_type": "code",
   "execution_count": null,
   "metadata": {},
   "outputs": [],
   "source": [
    "# returns \"True\" if face is detected in image stored at img_path\n",
    "def face_detector(img_path):\n",
    "    img = cv2.imread(img_path)\n",
    "    gray = cv2.cvtColor(img, cv2.COLOR_BGR2GRAY)\n",
    "    faces = face_cascade.detectMultiScale(gray)\n",
    "    return len(faces) > 0"
   ]
  },
  {
   "cell_type": "markdown",
   "metadata": {},
   "source": [
    "### (IMPLEMENTATION) Assess the Human Face Detector\n",
    "\n",
    "__Question 1:__ Use the code cell below to test the performance of the `face_detector` function.  \n",
    "- What percentage of the first 100 images in `human_files` have a detected human face?  \n",
    "- What percentage of the first 100 images in `dog_files` have a detected human face? \n",
    "\n",
    "Ideally, we would like 100% of human images with a detected face and 0% of dog images with a detected face.  You will see that our algorithm falls short of this goal, but still gives acceptable performance.  We extract the file paths for the first 100 images from each of the datasets and store them in the numpy arrays `human_files_short` and `dog_files_short`.\n",
    "\n",
    "__Answer:__ "
   ]
  },
  {
   "cell_type": "code",
   "execution_count": null,
   "metadata": {},
   "outputs": [],
   "source": [
    "human_files_short = human_files[:100]\n",
    "dog_files_short = train_files[:100]\n",
    "# Do NOT modify the code above this line.\n",
    "\n",
    "## TODO: Test the performance of the face_detector algorithm \n",
    "## on the images in human_files_short and dog_files_short.\n",
    "\n",
    "def detection_rate(file_list):\n",
    "    detected_human_faces = np.array([int(face_detector(f)) for f in file_list])\n",
    "    detection_rate = (detected_human_faces.sum()/file_list.shape[0])*100\n",
    "    return detection_rate\n",
    "\n",
    "print('In \"human_files\" {0}% of images have a detected human face.'.format(detection_rate(human_files_short)))\n",
    "print('In \"dog_files\" {0}% of images have a detected human face.'.format(detection_rate(dog_files_short)))\n"
   ]
  },
  {
   "cell_type": "markdown",
   "metadata": {},
   "source": [
    "__Question 2:__ This algorithmic choice necessitates that we communicate to the user that we accept human images only when they provide a clear view of a face (otherwise, we risk having unneccessarily frustrated users!). In your opinion, is this a reasonable expectation to pose on the user? If not, can you think of a way to detect humans in images that does not necessitate an image with a clearly presented face?\n",
    "\n",
    "__Answer:__\n",
    "\n",
    "I would say it is a reasonable expectation. From a user experience perspective if a user uses an face detection app it would feel natural for a user to pose a clear face view. However, to enable the algorithm to also accept partially covered faces I would use the image augmentation approach. In this approach I would take existing image and randomly cover parts of the face.\n",
    "\n",
    "We suggest the face detector from OpenCV as a potential way to detect human images in your algorithm, but you are free to explore other approaches, especially approaches that make use of deep learning :).  Please use the code cell below to design and test your own face detection algorithm.  If you decide to pursue this _optional_ task, report performance on each of the datasets."
   ]
  },
  {
   "cell_type": "code",
   "execution_count": null,
   "metadata": {},
   "outputs": [],
   "source": [
    "## (Optional) TODO: Report the performance of another  \n",
    "## face detection algorithm on the LFW dataset\n",
    "### Feel free to use as many code cells as needed.\n"
   ]
  },
  {
   "cell_type": "markdown",
   "metadata": {},
   "source": [
    "First let's run a full example with the CIFAR10 dataset."
   ]
  },
  {
   "cell_type": "code",
   "execution_count": 3,
   "metadata": {},
   "outputs": [
    {
     "name": "stdout",
     "output_type": "stream",
     "text": [
      "dimensions of the original train set:\n",
      "(50000, 32, 32, 3) (50000, 1)\n",
      "dimensions of the original test set:\n",
      "(10000, 32, 32, 3) (10000, 1)\n",
      "dimensions of the training data:\n",
      "(45000, 32, 32, 3) (45000, 10)\n",
      "dimensions of the validation data:\n",
      "(5000, 32, 32, 3) (5000, 10)\n",
      "dimensions of the test data:\n",
      "(10000, 32, 32, 3) (10000, 10)\n",
      "_________________________________________________________________\n",
      "Layer (type)                 Output Shape              Param #   \n",
      "=================================================================\n",
      "conv2d_4 (Conv2D)            (None, 32, 32, 16)        208       \n",
      "_________________________________________________________________\n",
      "max_pooling2d_4 (MaxPooling2 (None, 16, 16, 16)        0         \n",
      "_________________________________________________________________\n",
      "conv2d_5 (Conv2D)            (None, 16, 16, 32)        2080      \n",
      "_________________________________________________________________\n",
      "max_pooling2d_5 (MaxPooling2 (None, 8, 8, 32)          0         \n",
      "_________________________________________________________________\n",
      "conv2d_6 (Conv2D)            (None, 8, 8, 64)          8256      \n",
      "_________________________________________________________________\n",
      "max_pooling2d_6 (MaxPooling2 (None, 4, 4, 64)          0         \n",
      "_________________________________________________________________\n",
      "dropout_3 (Dropout)          (None, 4, 4, 64)          0         \n",
      "_________________________________________________________________\n",
      "flatten_2 (Flatten)          (None, 1024)              0         \n",
      "_________________________________________________________________\n",
      "dense_3 (Dense)              (None, 500)               512500    \n",
      "_________________________________________________________________\n",
      "dropout_4 (Dropout)          (None, 500)               0         \n",
      "_________________________________________________________________\n",
      "dense_4 (Dense)              (None, 10)                5010      \n",
      "=================================================================\n",
      "Total params: 528,054\n",
      "Trainable params: 528,054\n",
      "Non-trainable params: 0\n",
      "_________________________________________________________________\n",
      "Train on 45000 samples, validate on 5000 samples\n",
      "Epoch 1/100\n",
      "Epoch 00000: val_loss improved from inf to 1.42666, saving model to cifar10.weights.best.hdf5\n",
      "11s - loss: 1.5877 - acc: 0.4250 - val_loss: 1.4267 - val_acc: 0.4782\n",
      "Epoch 2/100\n",
      "Epoch 00001: val_loss improved from 1.42666 to 1.20253, saving model to cifar10.weights.best.hdf5\n",
      "11s - loss: 1.2897 - acc: 0.5388 - val_loss: 1.2025 - val_acc: 0.5816\n",
      "Epoch 3/100\n",
      "Epoch 00002: val_loss improved from 1.20253 to 1.09803, saving model to cifar10.weights.best.hdf5\n",
      "11s - loss: 1.1726 - acc: 0.5835 - val_loss: 1.0980 - val_acc: 0.6158\n",
      "Epoch 4/100\n",
      "Epoch 00003: val_loss did not improve\n",
      "11s - loss: 1.1040 - acc: 0.6084 - val_loss: 1.1632 - val_acc: 0.5866\n",
      "Epoch 5/100\n",
      "Epoch 00004: val_loss improved from 1.09803 to 1.07485, saving model to cifar10.weights.best.hdf5\n",
      "11s - loss: 1.0640 - acc: 0.6243 - val_loss: 1.0748 - val_acc: 0.6274\n",
      "Epoch 6/100\n",
      "Epoch 00005: val_loss did not improve\n",
      "11s - loss: 1.0406 - acc: 0.6366 - val_loss: 1.1890 - val_acc: 0.5914\n",
      "Epoch 7/100\n",
      "Epoch 00006: val_loss improved from 1.07485 to 0.98018, saving model to cifar10.weights.best.hdf5\n",
      "11s - loss: 1.0271 - acc: 0.6457 - val_loss: 0.9802 - val_acc: 0.6604\n",
      "Epoch 8/100\n",
      "Epoch 00007: val_loss did not improve\n",
      "11s - loss: 1.0222 - acc: 0.6496 - val_loss: 0.9824 - val_acc: 0.6570\n",
      "Epoch 9/100\n",
      "Epoch 00008: val_loss improved from 0.98018 to 0.93526, saving model to cifar10.weights.best.hdf5\n",
      "11s - loss: 1.0087 - acc: 0.6549 - val_loss: 0.9353 - val_acc: 0.6866\n",
      "Epoch 10/100\n",
      "Epoch 00009: val_loss did not improve\n",
      "12s - loss: 1.0085 - acc: 0.6573 - val_loss: 1.0687 - val_acc: 0.6306\n",
      "Epoch 11/100\n",
      "Epoch 00010: val_loss did not improve\n",
      "11s - loss: 1.0177 - acc: 0.6562 - val_loss: 1.1129 - val_acc: 0.6244\n",
      "Epoch 12/100\n",
      "Epoch 00011: val_loss did not improve\n",
      "11s - loss: 1.0181 - acc: 0.6582 - val_loss: 1.1604 - val_acc: 0.6264\n",
      "Epoch 13/100\n",
      "Epoch 00012: val_loss did not improve\n",
      "11s - loss: 1.0268 - acc: 0.6551 - val_loss: 1.0627 - val_acc: 0.6440\n",
      "Epoch 14/100\n",
      "Epoch 00013: val_loss did not improve\n",
      "11s - loss: 1.0460 - acc: 0.6494 - val_loss: 0.9761 - val_acc: 0.6734\n",
      "Epoch 15/100\n",
      "Epoch 00014: val_loss did not improve\n",
      "11s - loss: 1.0513 - acc: 0.6466 - val_loss: 1.0352 - val_acc: 0.6500\n",
      "Epoch 16/100\n",
      "Epoch 00015: val_loss did not improve\n",
      "11s - loss: 1.0817 - acc: 0.6388 - val_loss: 1.0998 - val_acc: 0.6320\n",
      "Epoch 17/100\n",
      "Epoch 00016: val_loss did not improve\n",
      "11s - loss: 1.0965 - acc: 0.6365 - val_loss: 0.9768 - val_acc: 0.6876\n",
      "Epoch 18/100\n",
      "Epoch 00017: val_loss did not improve\n",
      "11s - loss: 1.1138 - acc: 0.6304 - val_loss: 1.1044 - val_acc: 0.6356\n",
      "Epoch 19/100\n",
      "Epoch 00018: val_loss did not improve\n",
      "11s - loss: 1.1337 - acc: 0.6249 - val_loss: 1.3459 - val_acc: 0.5534\n",
      "Epoch 20/100\n",
      "Epoch 00019: val_loss did not improve\n",
      "11s - loss: 1.1490 - acc: 0.6213 - val_loss: 1.0336 - val_acc: 0.6548\n",
      "Epoch 21/100\n",
      "Epoch 00020: val_loss did not improve\n",
      "11s - loss: 1.1772 - acc: 0.6102 - val_loss: 1.3728 - val_acc: 0.5426\n",
      "Epoch 22/100\n",
      "Epoch 00021: val_loss did not improve\n",
      "11s - loss: 1.2054 - acc: 0.6016 - val_loss: 1.2423 - val_acc: 0.6142\n",
      "Epoch 23/100\n",
      "Epoch 00022: val_loss did not improve\n",
      "11s - loss: 1.2146 - acc: 0.5974 - val_loss: 1.0451 - val_acc: 0.6544\n",
      "Epoch 24/100\n",
      "Epoch 00023: val_loss did not improve\n",
      "11s - loss: 1.2336 - acc: 0.5924 - val_loss: 1.2587 - val_acc: 0.5892\n",
      "Epoch 25/100\n",
      "Epoch 00024: val_loss did not improve\n",
      "11s - loss: 1.2487 - acc: 0.5876 - val_loss: 1.4145 - val_acc: 0.5452\n",
      "Epoch 26/100\n",
      "Epoch 00025: val_loss did not improve\n",
      "11s - loss: 1.2512 - acc: 0.5838 - val_loss: 1.1112 - val_acc: 0.6086\n",
      "Epoch 27/100\n",
      "Epoch 00026: val_loss did not improve\n",
      "11s - loss: 1.2698 - acc: 0.5793 - val_loss: 1.1521 - val_acc: 0.6204\n",
      "Epoch 28/100\n",
      "Epoch 00027: val_loss did not improve\n",
      "11s - loss: 1.2909 - acc: 0.5732 - val_loss: 1.1591 - val_acc: 0.5964\n",
      "Epoch 29/100\n",
      "Epoch 00028: val_loss did not improve\n",
      "11s - loss: 1.2991 - acc: 0.5684 - val_loss: 1.3680 - val_acc: 0.5060\n",
      "Epoch 30/100\n",
      "Epoch 00029: val_loss did not improve\n",
      "11s - loss: 1.3091 - acc: 0.5618 - val_loss: 1.5713 - val_acc: 0.4912\n",
      "Epoch 31/100\n",
      "Epoch 00030: val_loss did not improve\n",
      "11s - loss: 1.3271 - acc: 0.5578 - val_loss: 1.3154 - val_acc: 0.5450\n",
      "Epoch 32/100\n",
      "Epoch 00031: val_loss did not improve\n",
      "11s - loss: 1.3452 - acc: 0.5538 - val_loss: 1.2389 - val_acc: 0.5796\n",
      "Epoch 33/100\n",
      "Epoch 00032: val_loss did not improve\n",
      "11s - loss: 1.3576 - acc: 0.5480 - val_loss: 1.3370 - val_acc: 0.5326\n",
      "Epoch 34/100\n",
      "Epoch 00033: val_loss did not improve\n",
      "11s - loss: 1.3761 - acc: 0.5394 - val_loss: 1.1781 - val_acc: 0.6094\n",
      "Epoch 35/100\n",
      "Epoch 00034: val_loss did not improve\n",
      "11s - loss: 1.3897 - acc: 0.5395 - val_loss: 4.1307 - val_acc: 0.3772\n",
      "Epoch 36/100\n",
      "Epoch 00035: val_loss did not improve\n",
      "11s - loss: 1.4083 - acc: 0.5279 - val_loss: 1.3151 - val_acc: 0.5912\n",
      "Epoch 37/100\n",
      "Epoch 00036: val_loss did not improve\n",
      "11s - loss: 1.4106 - acc: 0.5255 - val_loss: 1.3789 - val_acc: 0.5182\n",
      "Epoch 38/100\n",
      "Epoch 00037: val_loss did not improve\n",
      "11s - loss: 1.4226 - acc: 0.5220 - val_loss: 1.3122 - val_acc: 0.5612\n",
      "Epoch 39/100\n",
      "Epoch 00038: val_loss did not improve\n",
      "11s - loss: 1.4395 - acc: 0.5186 - val_loss: 1.6389 - val_acc: 0.3916\n",
      "Epoch 40/100\n",
      "Epoch 00039: val_loss did not improve\n",
      "11s - loss: 1.4517 - acc: 0.5116 - val_loss: 1.6726 - val_acc: 0.5042\n",
      "Epoch 41/100\n",
      "Epoch 00040: val_loss did not improve\n",
      "11s - loss: 1.4578 - acc: 0.5078 - val_loss: 1.4065 - val_acc: 0.5486\n",
      "Epoch 42/100\n",
      "Epoch 00041: val_loss did not improve\n",
      "11s - loss: 1.4772 - acc: 0.5030 - val_loss: 1.4764 - val_acc: 0.4742\n",
      "Epoch 43/100\n",
      "Epoch 00042: val_loss did not improve\n",
      "11s - loss: 1.4872 - acc: 0.5012 - val_loss: 1.5004 - val_acc: 0.5374\n",
      "Epoch 44/100\n",
      "Epoch 00043: val_loss did not improve\n",
      "11s - loss: 1.5039 - acc: 0.4960 - val_loss: 1.3432 - val_acc: 0.5464\n",
      "Epoch 45/100\n",
      "Epoch 00044: val_loss did not improve\n",
      "11s - loss: 1.5278 - acc: 0.4834 - val_loss: 1.3280 - val_acc: 0.5314\n",
      "Epoch 46/100\n",
      "Epoch 00045: val_loss did not improve\n",
      "11s - loss: 1.5367 - acc: 0.4808 - val_loss: 1.4614 - val_acc: 0.4834\n",
      "Epoch 47/100\n",
      "Epoch 00046: val_loss did not improve\n",
      "11s - loss: 1.5496 - acc: 0.4765 - val_loss: 1.5808 - val_acc: 0.4872\n",
      "Epoch 48/100\n"
     ]
    },
    {
     "name": "stdout",
     "output_type": "stream",
     "text": [
      "Epoch 00047: val_loss did not improve\n",
      "11s - loss: 1.5764 - acc: 0.4664 - val_loss: 1.6215 - val_acc: 0.4286\n",
      "Epoch 49/100\n",
      "Epoch 00048: val_loss did not improve\n",
      "11s - loss: 1.6003 - acc: 0.4559 - val_loss: 1.7882 - val_acc: 0.5428\n",
      "Epoch 50/100\n",
      "Epoch 00049: val_loss did not improve\n",
      "11s - loss: 1.5925 - acc: 0.4558 - val_loss: 1.6326 - val_acc: 0.5066\n",
      "Epoch 51/100\n",
      "Epoch 00050: val_loss did not improve\n",
      "11s - loss: 1.6107 - acc: 0.4470 - val_loss: 2.2345 - val_acc: 0.4682\n",
      "Epoch 52/100\n",
      "Epoch 00051: val_loss did not improve\n",
      "11s - loss: 1.6410 - acc: 0.4363 - val_loss: 1.6468 - val_acc: 0.4470\n",
      "Epoch 53/100\n",
      "Epoch 00052: val_loss did not improve\n",
      "11s - loss: 1.6534 - acc: 0.4331 - val_loss: 1.4842 - val_acc: 0.4742\n",
      "Epoch 54/100\n",
      "Epoch 00053: val_loss did not improve\n",
      "11s - loss: 1.6691 - acc: 0.4299 - val_loss: 1.5625 - val_acc: 0.4428\n",
      "Epoch 55/100\n",
      "Epoch 00054: val_loss did not improve\n",
      "11s - loss: 1.6779 - acc: 0.4266 - val_loss: 1.6451 - val_acc: 0.4260\n",
      "Epoch 56/100\n",
      "Epoch 00055: val_loss did not improve\n",
      "11s - loss: 1.6945 - acc: 0.4162 - val_loss: 1.7900 - val_acc: 0.3800\n",
      "Epoch 57/100\n",
      "Epoch 00056: val_loss did not improve\n",
      "11s - loss: 1.7034 - acc: 0.4152 - val_loss: 1.5534 - val_acc: 0.4522\n",
      "Epoch 58/100\n",
      "Epoch 00057: val_loss did not improve\n",
      "11s - loss: 1.7139 - acc: 0.4066 - val_loss: 1.5069 - val_acc: 0.4684\n",
      "Epoch 59/100\n",
      "Epoch 00058: val_loss did not improve\n",
      "11s - loss: 1.7057 - acc: 0.4047 - val_loss: 1.7233 - val_acc: 0.4056\n",
      "Epoch 60/100\n",
      "Epoch 00059: val_loss did not improve\n",
      "11s - loss: 1.7008 - acc: 0.4144 - val_loss: 1.3970 - val_acc: 0.4992\n",
      "Epoch 61/100\n",
      "Epoch 00060: val_loss did not improve\n",
      "11s - loss: 1.7116 - acc: 0.4026 - val_loss: 2.3960 - val_acc: 0.3850\n",
      "Epoch 62/100\n",
      "Epoch 00061: val_loss did not improve\n",
      "11s - loss: 1.7195 - acc: 0.4039 - val_loss: 1.8463 - val_acc: 0.3394\n",
      "Epoch 63/100\n",
      "Epoch 00062: val_loss did not improve\n",
      "11s - loss: 1.7200 - acc: 0.3984 - val_loss: 2.5292 - val_acc: 0.3028\n",
      "Epoch 64/100\n",
      "Epoch 00063: val_loss did not improve\n",
      "11s - loss: 1.7450 - acc: 0.3904 - val_loss: 1.7167 - val_acc: 0.4224\n",
      "Epoch 65/100\n",
      "Epoch 00064: val_loss did not improve\n",
      "11s - loss: 1.7306 - acc: 0.3957 - val_loss: 1.5975 - val_acc: 0.4350\n",
      "Epoch 66/100\n",
      "Epoch 00065: val_loss did not improve\n",
      "11s - loss: 1.7253 - acc: 0.3940 - val_loss: 1.6262 - val_acc: 0.4158\n",
      "Epoch 67/100\n",
      "Epoch 00066: val_loss did not improve\n",
      "11s - loss: 1.7579 - acc: 0.3864 - val_loss: 1.7130 - val_acc: 0.3804\n",
      "Epoch 68/100\n",
      "Epoch 00067: val_loss did not improve\n",
      "11s - loss: 1.7793 - acc: 0.3796 - val_loss: 1.5152 - val_acc: 0.4624\n",
      "Epoch 69/100\n",
      "Epoch 00068: val_loss did not improve\n",
      "11s - loss: 1.7625 - acc: 0.3788 - val_loss: 1.5033 - val_acc: 0.4556\n",
      "Epoch 70/100\n",
      "Epoch 00069: val_loss did not improve\n",
      "11s - loss: 1.7906 - acc: 0.3722 - val_loss: 1.7114 - val_acc: 0.3570\n",
      "Epoch 71/100\n",
      "Epoch 00070: val_loss did not improve\n",
      "11s - loss: 1.7955 - acc: 0.3738 - val_loss: 1.5752 - val_acc: 0.4168\n",
      "Epoch 72/100\n",
      "Epoch 00071: val_loss did not improve\n",
      "11s - loss: 1.7890 - acc: 0.3734 - val_loss: 1.6770 - val_acc: 0.3640\n",
      "Epoch 73/100\n",
      "Epoch 00072: val_loss did not improve\n",
      "11s - loss: 1.7875 - acc: 0.3750 - val_loss: 1.5771 - val_acc: 0.4166\n",
      "Epoch 74/100\n",
      "Epoch 00073: val_loss did not improve\n",
      "11s - loss: 1.7920 - acc: 0.3672 - val_loss: 3.5163 - val_acc: 0.2932\n",
      "Epoch 75/100\n",
      "Epoch 00074: val_loss did not improve\n",
      "11s - loss: 1.8086 - acc: 0.3621 - val_loss: 2.0843 - val_acc: 0.3004\n",
      "Epoch 76/100\n",
      "Epoch 00075: val_loss did not improve\n",
      "11s - loss: 1.8084 - acc: 0.3597 - val_loss: 1.5924 - val_acc: 0.4298\n",
      "Epoch 77/100\n",
      "Epoch 00076: val_loss did not improve\n",
      "11s - loss: 1.8100 - acc: 0.3556 - val_loss: 1.7152 - val_acc: 0.3750\n",
      "Epoch 78/100\n",
      "Epoch 00077: val_loss did not improve\n",
      "11s - loss: 1.8063 - acc: 0.3596 - val_loss: 1.6114 - val_acc: 0.4202\n",
      "Epoch 79/100\n",
      "Epoch 00078: val_loss did not improve\n",
      "11s - loss: 1.8285 - acc: 0.3505 - val_loss: 1.8555 - val_acc: 0.2926\n",
      "Epoch 80/100\n",
      "Epoch 00079: val_loss did not improve\n",
      "11s - loss: 1.8483 - acc: 0.3496 - val_loss: 2.9083 - val_acc: 0.2956\n",
      "Epoch 81/100\n",
      "Epoch 00080: val_loss did not improve\n",
      "11s - loss: 1.8362 - acc: 0.3506 - val_loss: 1.9358 - val_acc: 0.3130\n",
      "Epoch 82/100\n",
      "Epoch 00081: val_loss did not improve\n",
      "11s - loss: 1.8288 - acc: 0.3463 - val_loss: 1.6233 - val_acc: 0.4118\n",
      "Epoch 83/100\n",
      "Epoch 00082: val_loss did not improve\n",
      "11s - loss: 1.8272 - acc: 0.3490 - val_loss: 1.8736 - val_acc: 0.3490\n",
      "Epoch 84/100\n",
      "Epoch 00083: val_loss did not improve\n",
      "11s - loss: 1.8429 - acc: 0.3512 - val_loss: 1.6977 - val_acc: 0.3672\n",
      "Epoch 85/100\n",
      "Epoch 00084: val_loss did not improve\n",
      "11s - loss: 1.8519 - acc: 0.3436 - val_loss: 1.6071 - val_acc: 0.4296\n",
      "Epoch 86/100\n",
      "Epoch 00085: val_loss did not improve\n",
      "11s - loss: 1.8539 - acc: 0.3405 - val_loss: 1.5879 - val_acc: 0.4124\n",
      "Epoch 87/100\n",
      "Epoch 00086: val_loss did not improve\n",
      "11s - loss: 1.8450 - acc: 0.3437 - val_loss: 1.7128 - val_acc: 0.3816\n",
      "Epoch 88/100\n",
      "Epoch 00087: val_loss did not improve\n",
      "11s - loss: 1.8464 - acc: 0.3427 - val_loss: 1.5924 - val_acc: 0.4018\n",
      "Epoch 89/100\n",
      "Epoch 00088: val_loss did not improve\n",
      "11s - loss: 1.8515 - acc: 0.3370 - val_loss: 1.6924 - val_acc: 0.3848\n",
      "Epoch 90/100\n",
      "Epoch 00089: val_loss did not improve\n",
      "11s - loss: 1.8503 - acc: 0.3424 - val_loss: 1.8123 - val_acc: 0.3208\n",
      "Epoch 91/100\n",
      "Epoch 00090: val_loss did not improve\n",
      "11s - loss: 1.8364 - acc: 0.3462 - val_loss: 1.6942 - val_acc: 0.3720\n",
      "Epoch 92/100\n",
      "Epoch 00091: val_loss did not improve\n",
      "11s - loss: 1.8295 - acc: 0.3479 - val_loss: 1.7130 - val_acc: 0.3622\n",
      "Epoch 93/100\n",
      "Epoch 00092: val_loss did not improve\n",
      "11s - loss: 1.8173 - acc: 0.3474 - val_loss: 1.7498 - val_acc: 0.3586\n",
      "Epoch 94/100\n",
      "Epoch 00093: val_loss did not improve\n",
      "11s - loss: 1.8264 - acc: 0.3450 - val_loss: 1.8024 - val_acc: 0.3184\n",
      "Epoch 95/100\n",
      "Epoch 00094: val_loss did not improve\n",
      "11s - loss: 1.8319 - acc: 0.3409 - val_loss: 2.8479 - val_acc: 0.3198\n",
      "Epoch 96/100\n",
      "Epoch 00095: val_loss did not improve\n",
      "11s - loss: 1.8518 - acc: 0.3373 - val_loss: 1.6849 - val_acc: 0.3658\n",
      "Epoch 97/100\n",
      "Epoch 00096: val_loss did not improve\n",
      "11s - loss: 1.8632 - acc: 0.3322 - val_loss: 1.7372 - val_acc: 0.3706\n",
      "Epoch 98/100\n",
      "Epoch 00097: val_loss did not improve\n",
      "11s - loss: 1.8585 - acc: 0.3310 - val_loss: 1.7569 - val_acc: 0.3888\n",
      "Epoch 99/100\n",
      "Epoch 00098: val_loss did not improve\n",
      "11s - loss: 1.8608 - acc: 0.3243 - val_loss: 1.7453 - val_acc: 0.3760\n",
      "Epoch 100/100\n",
      "Epoch 00099: val_loss did not improve\n",
      "11s - loss: 1.8531 - acc: 0.3282 - val_loss: 1.7636 - val_acc: 0.3384\n",
      "10000/10000 [==============================] - 0s     \n",
      "\n",
      "cifar10 test accuracy: [0.95409510707855227, 0.67879999999999996]\n",
      "dict_keys(['val_loss', 'val_acc', 'loss', 'acc'])\n"
     ]
    },
    {
     "data": {
      "image/png": "[encoded data removed]",
      "text/plain": [
       "<matplotlib.figure.Figure at 0x7fbe1f7ee9e8>"
      ]
     },
     "metadata": {},
     "output_type": "display_data"
    },
    {
     "data": {
      "image/png": "[encoded data removed]",
      "text/plain": [
       "<matplotlib.figure.Figure at 0x7fbe1f74b4e0>"
      ]
     },
     "metadata": {},
     "output_type": "display_data"
    }
   ],
   "source": [
    "from keras.datasets import cifar10\n",
    "from keras.utils import np_utils\n",
    "from keras.models import Sequential\n",
    "from keras.layers import Convolution2D, MaxPooling2D, Flatten, Dense, Dropout\n",
    "from keras.callbacks import ModelCheckpoint\n",
    "import numpy as np\n",
    "import matplotlib.pyplot as plt\n",
    "import pickle\n",
    "%matplotlib inline\n",
    "\n",
    "# load training and test data\n",
    "(x_train, y_train), (x_test, y_test) = cifar10.load_data()\n",
    "print('dimensions of the original train set:')\n",
    "print(x_train.shape, y_train.shape)\n",
    "print('dimensions of the original test set:')\n",
    "print(x_test.shape, y_test.shape)\n",
    "\n",
    "# rescale pixel colour information from [0,255] to [0,1]\n",
    "x_train = x_train.astype('float32')/255\n",
    "x_test = x_test.astype('float32')/255\n",
    "\n",
    "# one-hot encode the labels\n",
    "num_classes = len(np.unique(y_train))\n",
    "y_train = np_utils.to_categorical(y_train, num_classes)\n",
    "y_test = np_utils.to_categorical(y_test, num_classes)\n",
    "\n",
    "# split training set into training and validation sets\n",
    "(x_train, x_valid) = x_train[5000:], x_train[:5000]\n",
    "(y_train, y_valid) = y_train[5000:], y_train[:5000]\n",
    "print('dimensions of the training data:')\n",
    "print(x_train.shape, y_train.shape)\n",
    "print('dimensions of the validation data:')\n",
    "print(x_valid.shape, y_valid.shape)\n",
    "print('dimensions of the test data:')\n",
    "print(x_test.shape, y_test.shape)\n",
    "\n",
    "# define the network architecture\n",
    "model = Sequential()\n",
    "model.add(Convolution2D(filters=16, kernel_size=2, padding='same', activation='relu',\n",
    "                        input_shape=(x_train.shape[1],\n",
    "                                     x_train.shape[2],\n",
    "                                     x_train.shape[3])))\n",
    "model.add(MaxPooling2D(pool_size=2))\n",
    "model.add(Convolution2D(filters=32, kernel_size=2, padding='same', activation='relu'))\n",
    "model.add(MaxPooling2D(pool_size=2))\n",
    "model.add(Convolution2D(filters=64, kernel_size=2, padding='same', activation='relu'))\n",
    "model.add(MaxPooling2D(pool_size=2))\n",
    "model.add(Dropout(0.3))\n",
    "model.add(Flatten())\n",
    "model.add(Dense(500, activation='relu'))\n",
    "model.add(Dropout(0.4))\n",
    "model.add(Dense(10, activation='softmax'))\n",
    "model.summary()\n",
    "\n",
    "# compile the model\n",
    "model.compile(loss='categorical_crossentropy', optimizer='rmsprop', metrics=['accuracy'])\n",
    "\n",
    "#train the model\n",
    "checkpointer = ModelCheckpoint(filepath='cifar10.weights.best.hdf5', verbose=1,\n",
    "                               save_best_only=True)\n",
    "history = model.fit(x_train, y_train, batch_size=32, epochs=100,\n",
    "                 validation_data=(x_valid, y_valid), callbacks=[checkpointer],\n",
    "                 verbose=2, shuffle=True)\n",
    "model.load_weights('cifar10.weights.best.hdf5')\n",
    "\n",
    "# evaluate test accuracy\n",
    "score = model.evaluate(x_test, y_test)\n",
    "print('\\ncifar10 test accuracy: {}'.format(score))\n",
    "\n",
    "# plotting of history values\n",
    "# https://machinelearningmastery.com/display-deep-learning-model-training-history-in-keras/\n",
    "print(history.history.keys())\n",
    "# summarize history for accuracy\n",
    "plt.plot(history.history['acc'])\n",
    "plt.plot(history.history['val_acc'])\n",
    "plt.title('model accuracy')\n",
    "plt.ylabel('accuracy')\n",
    "plt.xlabel('epoch')\n",
    "plt.legend(['train', 'test'], loc='upper left')\n",
    "plt.show()\n",
    "# summarize history for loss\n",
    "plt.plot(history.history['loss'])\n",
    "plt.plot(history.history['val_loss'])\n",
    "plt.title('model loss')\n",
    "plt.ylabel('loss')\n",
    "plt.xlabel('epoch')\n",
    "plt.legend(['train', 'test'], loc='upper left')\n",
    "plt.show()"
   ]
  },
  {
   "cell_type": "code",
   "execution_count": null,
   "metadata": {},
   "outputs": [],
   "source": [
    "# helper functions to get a feeling for the size and shape of images\n",
    "def get_dimensions(file_list):\n",
    "    file_dims = []\n",
    "    for file in file_list:\n",
    "        img = cv2.imread(file)\n",
    "        file_dims.append([img.shape[0], img.shape[1], img.shape[2]])\n",
    "    return np.array(file_dims)"
   ]
  },
  {
   "cell_type": "code",
   "execution_count": null,
   "metadata": {},
   "outputs": [],
   "source": [
    "# get the dimensions of each picture\n",
    "human_files_dims = get_dimensions(human_files[100:])\n",
    "dog_files_dims = get_dimensions(train_files[100:])"
   ]
  },
  {
   "cell_type": "code",
   "execution_count": null,
   "metadata": {},
   "outputs": [],
   "source": [
    "# get some stats of the images, I'm interested whether there are differences\n",
    "# in the size of the images\n",
    "print('human files: {}'.format(human_files_dims.shape[0]))\n",
    "print('human files min dimensions: {}'.format(human_files_dims.min(axis=0)))\n",
    "print('human files max dimensions: {}'.format(human_files_dims.max(axis=0)))\n",
    "print('dog files: {}'.format(dog_files_dims.shape[0]))\n",
    "print('dog files min dimensions: {}'.format(dog_files_dims.min(axis=0)))\n",
    "print('human files max dimensions: {}'.format(dog_files_dims.max(axis=0)))"
   ]
  },
  {
   "cell_type": "markdown",
   "metadata": {},
   "source": [
    "For the human dataset the dimensions of the images are the same (250 x 250). On the other hand the dog images vary in their dimensions (from 113 x 112 to 4003 x 4278). I need to scale the images to an equal size before feeding them into a deep learning network.\n",
    "\n",
    "For learning purposes, let's have a look at the cifar10 dataset and how it is structured. We will need to structure our image data in the same structure to run it through a CNN."
   ]
  },
  {
   "cell_type": "markdown",
   "metadata": {},
   "source": [
    "Issue with memory management. Got MemoryError after loading all images and creating several numpy arrays afterwards (train, test data). Using 'del\" didn't help (see link futher down)."
   ]
  },
  {
   "cell_type": "code",
   "execution_count": null,
   "metadata": {},
   "outputs": [],
   "source": [
    "# rescale and create list of tensors\n",
    "def files_to_tensors(file_list):\n",
    "    images = []\n",
    "    for f in file_list:\n",
    "        img = cv2.imread(f)\n",
    "        img_res = cv2.resize(img, (224, 224), interpolation=cv2.INTER_CUBIC)\n",
    "        images.append(img_res)\n",
    "    return np.stack(images)\n",
    "\n",
    "num_of_human_pictures = human_files.shape[0]\n",
    "num_of_human_pictures = 1000\n",
    "num_of_dog_pictures = train_files.shape[0]\n",
    "num_of_dog_pictures = 1000\n",
    "\n",
    "train_proportion = 0.8\n",
    "num_train_human = int(num_of_human_pictures * train_proportion)\n",
    "num_test_human = num_of_human_pictures - num_train_human\n",
    "num_train_dogs = int(num_of_dog_pictures * train_proportion)\n",
    "num_test_dogs = num_of_dog_pictures - num_train_dogs\n",
    "\n",
    "train_images = files_to_tensors(np.concatenate((human_files[:num_train_human],\n",
    "                                               train_files[:num_train_dogs])))\n",
    "train_labels = np.concatenate((np.full((num_train_human,1), 0, dtype=int),\n",
    "                               np.full((num_train_dogs,1), 1, dtype=int)))\n",
    "test_images_human = files_to_tensors(human_files[-num_test_human:])\n",
    "test_labels_human = np.full((num_test_human,1), 0, dtype=int)\n",
    "test_images_dogs = files_to_tensors(train_files[-num_test_dogs:])\n",
    "test_labels_dogs = np.full((num_test_dogs,1), 1, dtype=int)\n",
    "\n",
    "print('human files: {}'.format(num_of_human_pictures))\n",
    "print('dog files: {}'.format(num_of_dog_pictures))\n",
    "print('number of train images: {}'.format(train_images.shape))\n",
    "print('number of train labels: {}'.format(train_labels.shape))\n",
    "print('number of human test images: {}'.format(test_images_human.shape))\n",
    "print('number of human test labels: {}'.format(test_labels_human.shape))\n",
    "print('number of dog test images: {}'.format(test_images_dogs.shape))\n",
    "print('number of dog test labels: {}'.format(test_labels_dogs.shape))"
   ]
  },
  {
   "cell_type": "code",
   "execution_count": null,
   "metadata": {
    "scrolled": true
   },
   "outputs": [],
   "source": [
    "import matplotlib.pyplot as plt\n",
    "%matplotlib inline\n",
    "\n",
    "fig = plt.figure(figsize=(4,2))\n",
    "# pictures from training data set\n",
    "ax = fig.add_subplot(4, 2, 1, xticks=[], yticks=[])\n",
    "ax.imshow(np.squeeze(train_images[0]))\n",
    "ax = fig.add_subplot(4, 2, 2, xticks=[], yticks=[])\n",
    "ax.imshow(np.squeeze(train_images[num_train_human-1]))\n",
    "ax = fig.add_subplot(4, 2, 3, xticks=[], yticks=[])\n",
    "ax.imshow(np.squeeze(train_images[num_train_human]))\n",
    "ax = fig.add_subplot(4, 2, 4, xticks=[], yticks=[])\n",
    "ax.imshow(np.squeeze(train_images[-1]))\n",
    "# pictures from test data sets\n",
    "ax = fig.add_subplot(4, 2, 5, xticks=[], yticks=[])\n",
    "ax.imshow(np.squeeze(test_images_human[0]))\n",
    "ax = fig.add_subplot(4, 2, 6, xticks=[], yticks=[])\n",
    "ax.imshow(np.squeeze(test_images_human[-1]))\n",
    "ax = fig.add_subplot(4, 2, 7, xticks=[], yticks=[])\n",
    "ax.imshow(np.squeeze(test_images_dogs[0]))\n",
    "ax = fig.add_subplot(4, 2, 8, xticks=[], yticks=[])\n",
    "ax.imshow(np.squeeze(test_images_dogs[-1]))\n",
    "\n",
    "print(train_labels[0], train_labels[num_train_human-1])\n",
    "print(train_labels[num_train_human], train_labels[-1])\n",
    "\n",
    "print(test_labels_human[0], test_labels_human[-1])\n",
    "print(test_labels_dogs[0], test_labels_dogs[-1])"
   ]
  },
  {
   "cell_type": "markdown",
   "metadata": {},
   "source": [
    "All images have been resized to standard dimensions and the image arrays are arranged as a tensor for use in a keras CNN."
   ]
  },
  {
   "cell_type": "markdown",
   "metadata": {},
   "source": [
    "Issues with 'MemoryError'. It appears as if Python doesn't release memory despite using the del command to delete some of the large arrays that are no longer required. See also: http://effbot.org/pyfaq/why-doesnt-python-release-the-memory-when-i-delete-a-large-object.htm\n",
    "\n",
    "Need to find another way."
   ]
  },
  {
   "cell_type": "code",
   "execution_count": null,
   "metadata": {},
   "outputs": [],
   "source": [
    "# rescale pixel from 0 - 255 to 0.0 - 1.0\n",
    "train_images = train_images.astype('float32')/255\n",
    "test_images_human = test_images_human.astype('float32')/255\n",
    "test_images_dogs = test_images_dogs.astype('float32')/255"
   ]
  },
  {
   "cell_type": "code",
   "execution_count": null,
   "metadata": {},
   "outputs": [],
   "source": [
    "from keras.utils import np_utils\n",
    "# one-hot encode the labels\n",
    "num_classes = len(np.unique(train_labels))\n",
    "train_labels = np_utils.to_categorical(train_labels, num_classes)\n",
    "test_labels_human = np_utils.to_categorical(test_labels_human, num_classes)\n",
    "test_labels_dogs = np_utils.to_categorical(test_labels_dogs, num_classes)"
   ]
  },
  {
   "cell_type": "code",
   "execution_count": null,
   "metadata": {},
   "outputs": [],
   "source": [
    "from keras.models import Sequential\n",
    "from keras.layers import Convolution2D, MaxPooling2D, Flatten, Dense, Dropout\n",
    "from keras.callbacks import ModelCheckpoint\n",
    "\n",
    "# let's try a bunch of convnets and maxpools ...\n",
    "\n",
    "model = Sequential()\n",
    "model.add(Convolution2D(filters=16, kernel_size=3, padding='same', activation='relu',\n",
    "                        input_shape=(train_images.shape[1],\n",
    "                                     train_images.shape[2],\n",
    "                                     train_images.shape[3])))\n",
    "model.add(MaxPooling2D(pool_size=2))\n",
    "model.add(Convolution2D(filters=32, kernel_size=3, padding='same', activation='relu'))\n",
    "model.add(MaxPooling2D(pool_size=2))\n",
    "model.add(Convolution2D(filters=64, kernel_size=3, padding='same', activation='relu'))\n",
    "model.add(MaxPooling2D(pool_size=2))\n",
    "model.add(Dropout(0.3))\n",
    "model.add(Flatten())\n",
    "model.add(Dense(500, activation='relu'))\n",
    "model.add(Dropout(0.4))\n",
    "model.add(Dense(2, activation='softmax'))\n",
    "model.summary()"
   ]
  },
  {
   "cell_type": "code",
   "execution_count": null,
   "metadata": {},
   "outputs": [],
   "source": [
    "print(train_images.shape)\n",
    "print(train_labels.shape)\n",
    "\n",
    "model.compile(loss='categorical_crossentropy', optimizer='rmsprop', metrics=['accuracy'])\n",
    "checkpointer = ModelCheckpoint(filepath='CNN.weights.best.hdf5', verbose=1, save_best_only=True)\n",
    "hist = model.fit(train_images, train_labels, batch_size=32, epochs=100,\n",
    "                 validation_split=0.2, callbacks=[checkpointer], verbose=2, shuffle=True)"
   ]
  },
  {
   "cell_type": "code",
   "execution_count": null,
   "metadata": {},
   "outputs": [],
   "source": [
    "model.load_weights('CNN.weights.best.hdf5')"
   ]
  },
  {
   "cell_type": "code",
   "execution_count": null,
   "metadata": {},
   "outputs": [],
   "source": [
    "score = model.evaluate(test_images_human, test_labels_human)\n",
    "print('human images test accuracy: {}'.format(score))\n",
    "score = model.evaluate(test_images_dogs, test_labels_dogs)\n",
    "print('dog images test accuracy: {}'.format(score))"
   ]
  },
  {
   "cell_type": "markdown",
   "metadata": {},
   "source": [
    "---\n",
    "<a id='step2'></a>\n",
    "## Step 2: Detect Dogs\n",
    "\n",
    "In this section, we use a pre-trained [ResNet-50](http://ethereon.github.io/netscope/#/gist/db945b393d40bfa26006) model to detect dogs in images.  Our first line of code downloads the ResNet-50 model, along with weights that have been trained on [ImageNet](http://www.image-net.org/), a very large, very popular dataset used for image classification and other vision tasks.  ImageNet contains over 10 million URLs, each linking to an image containing an object from one of [1000 categories](https://gist.github.com/yrevar/942d3a0ac09ec9e5eb3a).  Given an image, this pre-trained ResNet-50 model returns a prediction (derived from the available categories in ImageNet) for the object that is contained in the image."
   ]
  },
  {
   "cell_type": "code",
   "execution_count": null,
   "metadata": {},
   "outputs": [],
   "source": [
    "from keras.applications.resnet50 import ResNet50\n",
    "\n",
    "# define ResNet50 model\n",
    "ResNet50_model = ResNet50(weights='imagenet')"
   ]
  },
  {
   "cell_type": "markdown",
   "metadata": {},
   "source": [
    "### Pre-process the Data\n",
    "\n",
    "When using TensorFlow as backend, Keras CNNs require a 4D array (which we'll also refer to as a 4D tensor) as input, with shape\n",
    "\n",
    "$$\n",
    "(\\text{nb_samples}, \\text{rows}, \\text{columns}, \\text{channels}),\n",
    "$$\n",
    "\n",
    "where `nb_samples` corresponds to the total number of images (or samples), and `rows`, `columns`, and `channels` correspond to the number of rows, columns, and channels for each image, respectively.  \n",
    "\n",
    "The `path_to_tensor` function below takes a string-valued file path to a color image as input and returns a 4D tensor suitable for supplying to a Keras CNN.  The function first loads the image and resizes it to a square image that is $224 \\times 224$ pixels.  Next, the image is converted to an array, which is then resized to a 4D tensor.  In this case, since we are working with color images, each image has three channels.  Likewise, since we are processing a single image (or sample), the returned tensor will always have shape\n",
    "\n",
    "$$\n",
    "(1, 224, 224, 3).\n",
    "$$\n",
    "\n",
    "The `paths_to_tensor` function takes a numpy array of string-valued image paths as input and returns a 4D tensor with shape \n",
    "\n",
    "$$\n",
    "(\\text{nb_samples}, 224, 224, 3).\n",
    "$$\n",
    "\n",
    "Here, `nb_samples` is the number of samples, or number of images, in the supplied array of image paths.  It is best to think of `nb_samples` as the number of 3D tensors (where each 3D tensor corresponds to a different image) in your dataset!"
   ]
  },
  {
   "cell_type": "code",
   "execution_count": null,
   "metadata": {},
   "outputs": [],
   "source": [
    "from keras.preprocessing import image                  \n",
    "from tqdm import tqdm\n",
    "\n",
    "def path_to_tensor(img_path):\n",
    "    # loads RGB image as PIL.Image.Image type\n",
    "    img = image.load_img(img_path, target_size=(224, 224))\n",
    "    # convert PIL.Image.Image type to 3D tensor with shape (224, 224, 3)\n",
    "    x = image.img_to_array(img)\n",
    "    # convert 3D tensor to 4D tensor with shape (1, 224, 224, 3) and return 4D tensor\n",
    "    return np.expand_dims(x, axis=0)\n",
    "\n",
    "def paths_to_tensor(img_paths):\n",
    "    list_of_tensors = [path_to_tensor(img_path) for img_path in tqdm(img_paths)]\n",
    "    return np.vstack(list_of_tensors)"
   ]
  },
  {
   "cell_type": "markdown",
   "metadata": {},
   "source": [
    "### Making Predictions with ResNet-50\n",
    "\n",
    "Getting the 4D tensor ready for ResNet-50, and for any other pre-trained model in Keras, requires some additional processing.  First, the RGB image is converted to BGR by reordering the channels.  All pre-trained models have the additional normalization step that the mean pixel (expressed in RGB as $[103.939, 116.779, 123.68]$ and calculated from all pixels in all images in ImageNet) must be subtracted from every pixel in each image.  This is implemented in the imported function `preprocess_input`.  If you're curious, you can check the code for `preprocess_input` [here](https://github.com/fchollet/keras/blob/master/keras/applications/imagenet_utils.py).\n",
    "\n",
    "Now that we have a way to format our image for supplying to ResNet-50, we are now ready to use the model to extract the predictions.  This is accomplished with the `predict` method, which returns an array whose $i$-th entry is the model's predicted probability that the image belongs to the $i$-th ImageNet category.  This is implemented in the `ResNet50_predict_labels` function below.\n",
    "\n",
    "By taking the argmax of the predicted probability vector, we obtain an integer corresponding to the model's predicted object class, which we can identify with an object category through the use of this [dictionary](https://gist.github.com/yrevar/942d3a0ac09ec9e5eb3a). "
   ]
  },
  {
   "cell_type": "code",
   "execution_count": null,
   "metadata": {},
   "outputs": [],
   "source": [
    "from keras.applications.resnet50 import preprocess_input, decode_predictions\n",
    "\n",
    "def ResNet50_predict_labels(img_path):\n",
    "    # returns prediction vector for image located at img_path\n",
    "    img = preprocess_input(path_to_tensor(img_path))\n",
    "    return np.argmax(ResNet50_model.predict(img))"
   ]
  },
  {
   "cell_type": "markdown",
   "metadata": {},
   "source": [
    "### Write a Dog Detector\n",
    "\n",
    "While looking at the [dictionary](https://gist.github.com/yrevar/942d3a0ac09ec9e5eb3a), you will notice that the categories corresponding to dogs appear in an uninterrupted sequence and correspond to dictionary keys 151-268, inclusive, to include all categories from `'Chihuahua'` to `'Mexican hairless'`.  Thus, in order to check to see if an image is predicted to contain a dog by the pre-trained ResNet-50 model, we need only check if the `ResNet50_predict_labels` function above returns a value between 151 and 268 (inclusive).\n",
    "\n",
    "We use these ideas to complete the `dog_detector` function below, which returns `True` if a dog is detected in an image (and `False` if not)."
   ]
  },
  {
   "cell_type": "code",
   "execution_count": null,
   "metadata": {},
   "outputs": [],
   "source": [
    "### returns \"True\" if a dog is detected in the image stored at img_path\n",
    "def dog_detector(img_path):\n",
    "    prediction = ResNet50_predict_labels(img_path)\n",
    "    return ((prediction <= 268) & (prediction >= 151)) "
   ]
  },
  {
   "cell_type": "markdown",
   "metadata": {},
   "source": [
    "### (IMPLEMENTATION) Assess the Dog Detector\n",
    "\n",
    "__Question 3:__ Use the code cell below to test the performance of your `dog_detector` function.  \n",
    "- What percentage of the images in `human_files_short` have a detected dog?  \n",
    "- What percentage of the images in `dog_files_short` have a detected dog?\n",
    "\n",
    "__Answer:__ "
   ]
  },
  {
   "cell_type": "code",
   "execution_count": null,
   "metadata": {},
   "outputs": [],
   "source": [
    "### TODO: Test the performance of the dog_detector function\n",
    "### on the images in human_files_short and dog_files_short."
   ]
  },
  {
   "cell_type": "markdown",
   "metadata": {},
   "source": [
    "---\n",
    "<a id='step3'></a>\n",
    "## Step 3: Create a CNN to Classify Dog Breeds (from Scratch)\n",
    "\n",
    "Now that we have functions for detecting humans and dogs in images, we need a way to predict breed from images.  In this step, you will create a CNN that classifies dog breeds.  You must create your CNN _from scratch_ (so, you can't use transfer learning _yet_!), and you must attain a test accuracy of at least 1%.  In Step 5 of this notebook, you will have the opportunity to use transfer learning to create a CNN that attains greatly improved accuracy.\n",
    "\n",
    "Be careful with adding too many trainable layers!  More parameters means longer training, which means you are more likely to need a GPU to accelerate the training process.  Thankfully, Keras provides a handy estimate of the time that each epoch is likely to take; you can extrapolate this estimate to figure out how long it will take for your algorithm to train. \n",
    "\n",
    "We mention that the task of assigning breed to dogs from images is considered exceptionally challenging.  To see why, consider that *even a human* would have great difficulty in distinguishing between a Brittany and a Welsh Springer Spaniel.  \n",
    "\n",
    "Brittany | Welsh Springer Spaniel\n",
    "- | - \n",
    "<img src=\"images/Brittany_02625.jpg\" width=\"100\"> | <img src=\"images/Welsh_springer_spaniel_08203.jpg\" width=\"200\">\n",
    "\n",
    "It is not difficult to find other dog breed pairs with minimal inter-class variation (for instance, Curly-Coated Retrievers and American Water Spaniels).  \n",
    "\n",
    "Curly-Coated Retriever | American Water Spaniel\n",
    "- | -\n",
    "<img src=\"images/Curly-coated_retriever_03896.jpg\" width=\"200\"> | <img src=\"images/American_water_spaniel_00648.jpg\" width=\"200\">\n",
    "\n",
    "\n",
    "Likewise, recall that labradors come in yellow, chocolate, and black.  Your vision-based algorithm will have to conquer this high intra-class variation to determine how to classify all of these different shades as the same breed.  \n",
    "\n",
    "Yellow Labrador | Chocolate Labrador | Black Labrador\n",
    "- | -\n",
    "<img src=\"images/Labrador_retriever_06457.jpg\" width=\"150\"> | <img src=\"images/Labrador_retriever_06455.jpg\" width=\"240\"> | <img src=\"images/Labrador_retriever_06449.jpg\" width=\"220\">\n",
    "\n",
    "We also mention that random chance presents an exceptionally low bar: setting aside the fact that the classes are slightly imabalanced, a random guess will provide a correct answer roughly 1 in 133 times, which corresponds to an accuracy of less than 1%.  \n",
    "\n",
    "Remember that the practice is far ahead of the theory in deep learning.  Experiment with many different architectures, and trust your intuition.  And, of course, have fun! \n",
    "\n",
    "### Pre-process the Data\n",
    "\n",
    "We rescale the images by dividing every pixel in every image by 255."
   ]
  },
  {
   "cell_type": "code",
   "execution_count": null,
   "metadata": {},
   "outputs": [],
   "source": [
    "from PIL import ImageFile                            \n",
    "ImageFile.LOAD_TRUNCATED_IMAGES = True                 \n",
    "\n",
    "# pre-process the data for Keras\n",
    "train_tensors = paths_to_tensor(train_files).astype('float32')/255\n",
    "valid_tensors = paths_to_tensor(valid_files).astype('float32')/255\n",
    "test_tensors = paths_to_tensor(test_files).astype('float32')/255"
   ]
  },
  {
   "cell_type": "markdown",
   "metadata": {},
   "source": [
    "### (IMPLEMENTATION) Model Architecture\n",
    "\n",
    "Create a CNN to classify dog breed.  At the end of your code cell block, summarize the layers of your model by executing the line:\n",
    "    \n",
    "        model.summary()\n",
    "\n",
    "We have imported some Python modules to get you started, but feel free to import as many modules as you need.  If you end up getting stuck, here's a hint that specifies a model that trains relatively fast on CPU and attains >1% test accuracy in 5 epochs:\n",
    "\n",
    "![Sample CNN](images/sample_cnn.png)\n",
    "           \n",
    "__Question 4:__ Outline the steps you took to get to your final CNN architecture and your reasoning at each step.  If you chose to use the hinted architecture above, describe why you think that CNN architecture should work well for the image classification task.\n",
    "\n",
    "__Answer:__ "
   ]
  },
  {
   "cell_type": "code",
   "execution_count": null,
   "metadata": {},
   "outputs": [],
   "source": [
    "from keras.layers import Conv2D, MaxPooling2D, GlobalAveragePooling2D\n",
    "from keras.layers import Dropout, Flatten, Dense\n",
    "from keras.models import Sequential\n",
    "\n",
    "model = Sequential()\n",
    "\n",
    "### TODO: Define your architecture.\n",
    "\n",
    "model.summary()"
   ]
  },
  {
   "cell_type": "markdown",
   "metadata": {},
   "source": [
    "### Compile the Model"
   ]
  },
  {
   "cell_type": "code",
   "execution_count": null,
   "metadata": {},
   "outputs": [],
   "source": [
    "model.compile(optimizer='rmsprop', loss='categorical_crossentropy', metrics=['accuracy'])"
   ]
  },
  {
   "cell_type": "markdown",
   "metadata": {},
   "source": [
    "### (IMPLEMENTATION) Train the Model\n",
    "\n",
    "Train your model in the code cell below.  Use model checkpointing to save the model that attains the best validation loss.\n",
    "\n",
    "You are welcome to [augment the training data](https://blog.keras.io/building-powerful-image-classification-models-using-very-little-data.html), but this is not a requirement. "
   ]
  },
  {
   "cell_type": "code",
   "execution_count": null,
   "metadata": {},
   "outputs": [],
   "source": [
    "from keras.callbacks import ModelCheckpoint  \n",
    "\n",
    "### TODO: specify the number of epochs that you would like to use to train the model.\n",
    "\n",
    "epochs = ...\n",
    "\n",
    "### Do NOT modify the code below this line.\n",
    "\n",
    "checkpointer = ModelCheckpoint(filepath='saved_models/weights.best.from_scratch.hdf5', \n",
    "                               verbose=1, save_best_only=True)\n",
    "\n",
    "model.fit(train_tensors, train_targets, \n",
    "          validation_data=(valid_tensors, valid_targets),\n",
    "          epochs=epochs, batch_size=20, callbacks=[checkpointer], verbose=1)"
   ]
  },
  {
   "cell_type": "markdown",
   "metadata": {},
   "source": [
    "### Load the Model with the Best Validation Loss"
   ]
  },
  {
   "cell_type": "code",
   "execution_count": null,
   "metadata": {},
   "outputs": [],
   "source": [
    "model.load_weights('saved_models/weights.best.from_scratch.hdf5')"
   ]
  },
  {
   "cell_type": "markdown",
   "metadata": {},
   "source": [
    "### Test the Model\n",
    "\n",
    "Try out your model on the test dataset of dog images.  Ensure that your test accuracy is greater than 1%."
   ]
  },
  {
   "cell_type": "code",
   "execution_count": null,
   "metadata": {},
   "outputs": [],
   "source": [
    "# get index of predicted dog breed for each image in test set\n",
    "dog_breed_predictions = [np.argmax(model.predict(np.expand_dims(tensor, axis=0))) for tensor in test_tensors]\n",
    "\n",
    "# report test accuracy\n",
    "test_accuracy = 100*np.sum(np.array(dog_breed_predictions)==np.argmax(test_targets, axis=1))/len(dog_breed_predictions)\n",
    "print('Test accuracy: %.4f%%' % test_accuracy)"
   ]
  },
  {
   "cell_type": "markdown",
   "metadata": {},
   "source": [
    "---\n",
    "<a id='step4'></a>\n",
    "## Step 4: Use a CNN to Classify Dog Breeds\n",
    "\n",
    "To reduce training time without sacrificing accuracy, we show you how to train a CNN using transfer learning.  In the following step, you will get a chance to use transfer learning to train your own CNN.\n",
    "\n",
    "### Obtain Bottleneck Features"
   ]
  },
  {
   "cell_type": "code",
   "execution_count": null,
   "metadata": {},
   "outputs": [],
   "source": [
    "bottleneck_features = np.load('bottleneck_features/DogVGG16Data.npz')\n",
    "train_VGG16 = bottleneck_features['train']\n",
    "valid_VGG16 = bottleneck_features['valid']\n",
    "test_VGG16 = bottleneck_features['test']"
   ]
  },
  {
   "cell_type": "markdown",
   "metadata": {},
   "source": [
    "### Model Architecture\n",
    "\n",
    "The model uses the the pre-trained VGG-16 model as a fixed feature extractor, where the last convolutional output of VGG-16 is fed as input to our model.  We only add a global average pooling layer and a fully connected layer, where the latter contains one node for each dog category and is equipped with a softmax."
   ]
  },
  {
   "cell_type": "code",
   "execution_count": null,
   "metadata": {},
   "outputs": [],
   "source": [
    "VGG16_model = Sequential()\n",
    "VGG16_model.add(GlobalAveragePooling2D(input_shape=train_VGG16.shape[1:]))\n",
    "VGG16_model.add(Dense(133, activation='softmax'))\n",
    "\n",
    "VGG16_model.summary()"
   ]
  },
  {
   "cell_type": "markdown",
   "metadata": {},
   "source": [
    "### Compile the Model"
   ]
  },
  {
   "cell_type": "code",
   "execution_count": null,
   "metadata": {},
   "outputs": [],
   "source": [
    "VGG16_model.compile(loss='categorical_crossentropy', optimizer='rmsprop', metrics=['accuracy'])"
   ]
  },
  {
   "cell_type": "markdown",
   "metadata": {},
   "source": [
    "### Train the Model"
   ]
  },
  {
   "cell_type": "code",
   "execution_count": null,
   "metadata": {},
   "outputs": [],
   "source": [
    "checkpointer = ModelCheckpoint(filepath='saved_models/weights.best.VGG16.hdf5', \n",
    "                               verbose=1, save_best_only=True)\n",
    "\n",
    "VGG16_model.fit(train_VGG16, train_targets, \n",
    "          validation_data=(valid_VGG16, valid_targets),\n",
    "          epochs=20, batch_size=20, callbacks=[checkpointer], verbose=1)"
   ]
  },
  {
   "cell_type": "markdown",
   "metadata": {},
   "source": [
    "### Load the Model with the Best Validation Loss"
   ]
  },
  {
   "cell_type": "code",
   "execution_count": null,
   "metadata": {},
   "outputs": [],
   "source": [
    "VGG16_model.load_weights('saved_models/weights.best.VGG16.hdf5')"
   ]
  },
  {
   "cell_type": "markdown",
   "metadata": {},
   "source": [
    "### Test the Model\n",
    "\n",
    "Now, we can use the CNN to test how well it identifies breed within our test dataset of dog images.  We print the test accuracy below."
   ]
  },
  {
   "cell_type": "code",
   "execution_count": null,
   "metadata": {},
   "outputs": [],
   "source": [
    "# get index of predicted dog breed for each image in test set\n",
    "VGG16_predictions = [np.argmax(VGG16_model.predict(np.expand_dims(feature, axis=0))) for feature in test_VGG16]\n",
    "\n",
    "# report test accuracy\n",
    "test_accuracy = 100*np.sum(np.array(VGG16_predictions)==np.argmax(test_targets, axis=1))/len(VGG16_predictions)\n",
    "print('Test accuracy: %.4f%%' % test_accuracy)"
   ]
  },
  {
   "cell_type": "markdown",
   "metadata": {},
   "source": [
    "### Predict Dog Breed with the Model"
   ]
  },
  {
   "cell_type": "code",
   "execution_count": null,
   "metadata": {},
   "outputs": [],
   "source": [
    "from extract_bottleneck_features import *\n",
    "\n",
    "def VGG16_predict_breed(img_path):\n",
    "    # extract bottleneck features\n",
    "    bottleneck_feature = extract_VGG16(path_to_tensor(img_path))\n",
    "    # obtain predicted vector\n",
    "    predicted_vector = VGG16_model.predict(bottleneck_feature)\n",
    "    # return dog breed that is predicted by the model\n",
    "    return dog_names[np.argmax(predicted_vector)]"
   ]
  },
  {
   "cell_type": "markdown",
   "metadata": {},
   "source": [
    "---\n",
    "<a id='step5'></a>\n",
    "## Step 5: Create a CNN to Classify Dog Breeds (using Transfer Learning)\n",
    "\n",
    "You will now use transfer learning to create a CNN that can identify dog breed from images.  Your CNN must attain at least 60% accuracy on the test set.\n",
    "\n",
    "In Step 4, we used transfer learning to create a CNN using VGG-16 bottleneck features.  In this section, you must use the bottleneck features from a different pre-trained model.  To make things easier for you, we have pre-computed the features for all of the networks that are currently available in Keras:\n",
    "- [VGG-19](https://s3-us-west-1.amazonaws.com/udacity-aind/dog-project/DogVGG19Data.npz) bottleneck features\n",
    "- [ResNet-50](https://s3-us-west-1.amazonaws.com/udacity-aind/dog-project/DogResnet50Data.npz) bottleneck features\n",
    "- [Inception](https://s3-us-west-1.amazonaws.com/udacity-aind/dog-project/DogInceptionV3Data.npz) bottleneck features\n",
    "- [Xception](https://s3-us-west-1.amazonaws.com/udacity-aind/dog-project/DogXceptionData.npz) bottleneck features\n",
    "\n",
    "The files are encoded as such:\n",
    "\n",
    "    Dog{network}Data.npz\n",
    "    \n",
    "where `{network}`, in the above filename, can be one of `VGG19`, `Resnet50`, `InceptionV3`, or `Xception`.  Pick one of the above architectures, download the corresponding bottleneck features, and store the downloaded file in the `bottleneck_features/` folder in the repository.\n",
    "\n",
    "### (IMPLEMENTATION) Obtain Bottleneck Features\n",
    "\n",
    "In the code block below, extract the bottleneck features corresponding to the train, test, and validation sets by running the following:\n",
    "\n",
    "    bottleneck_features = np.load('bottleneck_features/Dog{network}Data.npz')\n",
    "    train_{network} = bottleneck_features['train']\n",
    "    valid_{network} = bottleneck_features['valid']\n",
    "    test_{network} = bottleneck_features['test']"
   ]
  },
  {
   "cell_type": "code",
   "execution_count": null,
   "metadata": {},
   "outputs": [],
   "source": [
    "### TODO: Obtain bottleneck features from another pre-trained CNN."
   ]
  },
  {
   "cell_type": "markdown",
   "metadata": {},
   "source": [
    "### (IMPLEMENTATION) Model Architecture\n",
    "\n",
    "Create a CNN to classify dog breed.  At the end of your code cell block, summarize the layers of your model by executing the line:\n",
    "    \n",
    "        <your model's name>.summary()\n",
    "   \n",
    "__Question 5:__ Outline the steps you took to get to your final CNN architecture and your reasoning at each step.  Describe why you think the architecture is suitable for the current problem.\n",
    "\n",
    "__Answer:__ \n",
    "\n"
   ]
  },
  {
   "cell_type": "code",
   "execution_count": null,
   "metadata": {},
   "outputs": [],
   "source": [
    "### TODO: Define your architecture."
   ]
  },
  {
   "cell_type": "markdown",
   "metadata": {},
   "source": [
    "### (IMPLEMENTATION) Compile the Model"
   ]
  },
  {
   "cell_type": "code",
   "execution_count": null,
   "metadata": {},
   "outputs": [],
   "source": [
    "### TODO: Compile the model."
   ]
  },
  {
   "cell_type": "markdown",
   "metadata": {},
   "source": [
    "### (IMPLEMENTATION) Train the Model\n",
    "\n",
    "Train your model in the code cell below.  Use model checkpointing to save the model that attains the best validation loss.  \n",
    "\n",
    "You are welcome to [augment the training data](https://blog.keras.io/building-powerful-image-classification-models-using-very-little-data.html), but this is not a requirement. "
   ]
  },
  {
   "cell_type": "code",
   "execution_count": null,
   "metadata": {},
   "outputs": [],
   "source": [
    "### TODO: Train the model."
   ]
  },
  {
   "cell_type": "markdown",
   "metadata": {},
   "source": [
    "### (IMPLEMENTATION) Load the Model with the Best Validation Loss"
   ]
  },
  {
   "cell_type": "code",
   "execution_count": null,
   "metadata": {},
   "outputs": [],
   "source": [
    "### TODO: Load the model weights with the best validation loss."
   ]
  },
  {
   "cell_type": "markdown",
   "metadata": {},
   "source": [
    "### (IMPLEMENTATION) Test the Model\n",
    "\n",
    "Try out your model on the test dataset of dog images. Ensure that your test accuracy is greater than 60%."
   ]
  },
  {
   "cell_type": "code",
   "execution_count": null,
   "metadata": {},
   "outputs": [],
   "source": [
    "### TODO: Calculate classification accuracy on the test dataset."
   ]
  },
  {
   "cell_type": "markdown",
   "metadata": {},
   "source": [
    "### (IMPLEMENTATION) Predict Dog Breed with the Model\n",
    "\n",
    "Write a function that takes an image path as input and returns the dog breed (`Affenpinscher`, `Afghan_hound`, etc) that is predicted by your model.  \n",
    "\n",
    "Similar to the analogous function in Step 5, your function should have three steps:\n",
    "1. Extract the bottleneck features corresponding to the chosen CNN model.\n",
    "2. Supply the bottleneck features as input to the model to return the predicted vector.  Note that the argmax of this prediction vector gives the index of the predicted dog breed.\n",
    "3. Use the `dog_names` array defined in Step 0 of this notebook to return the corresponding breed.\n",
    "\n",
    "The functions to extract the bottleneck features can be found in `extract_bottleneck_features.py`, and they have been imported in an earlier code cell.  To obtain the bottleneck features corresponding to your chosen CNN architecture, you need to use the function\n",
    "\n",
    "    extract_{network}\n",
    "    \n",
    "where `{network}`, in the above filename, should be one of `VGG19`, `Resnet50`, `InceptionV3`, or `Xception`."
   ]
  },
  {
   "cell_type": "code",
   "execution_count": null,
   "metadata": {},
   "outputs": [],
   "source": [
    "### TODO: Write a function that takes a path to an image as input\n",
    "### and returns the dog breed that is predicted by the model."
   ]
  },
  {
   "cell_type": "markdown",
   "metadata": {},
   "source": [
    "---\n",
    "<a id='step6'></a>\n",
    "## Step 6: Write your Algorithm\n",
    "\n",
    "Write an algorithm that accepts a file path to an image and first determines whether the image contains a human, dog, or neither.  Then,\n",
    "- if a __dog__ is detected in the image, return the predicted breed.\n",
    "- if a __human__ is detected in the image, return the resembling dog breed.\n",
    "- if __neither__ is detected in the image, provide output that indicates an error.\n",
    "\n",
    "You are welcome to write your own functions for detecting humans and dogs in images, but feel free to use the `face_detector` and `dog_detector` functions developed above.  You are __required__ to use your CNN from Step 5 to predict dog breed.  \n",
    "\n",
    "Some sample output for our algorithm is provided below, but feel free to design your own user experience!\n",
    "\n",
    "![Sample Human Output](images/sample_human_output.png)\n",
    "\n",
    "\n",
    "### (IMPLEMENTATION) Write your Algorithm"
   ]
  },
  {
   "cell_type": "code",
   "execution_count": null,
   "metadata": {},
   "outputs": [],
   "source": [
    "### TODO: Write your algorithm.\n",
    "### Feel free to use as many code cells as needed."
   ]
  },
  {
   "cell_type": "markdown",
   "metadata": {},
   "source": [
    "---\n",
    "<a id='step7'></a>\n",
    "## Step 7: Test Your Algorithm\n",
    "\n",
    "In this section, you will take your new algorithm for a spin!  What kind of dog does the algorithm think that __you__ look like?  If you have a dog, does it predict your dog's breed accurately?  If you have a cat, does it mistakenly think that your cat is a dog?\n",
    "\n",
    "### (IMPLEMENTATION) Test Your Algorithm on Sample Images!\n",
    "\n",
    "Test your algorithm at least six images on your computer.  Feel free to use any images you like.  Use at least two human and two dog images.  \n",
    "\n",
    "__Question 6:__ Is the output better than you expected :) ?  Or worse :( ?  Provide at least three possible points of improvement for your algorithm.\n",
    "\n",
    "__Answer:__ "
   ]
  },
  {
   "cell_type": "code",
   "execution_count": null,
   "metadata": {},
   "outputs": [],
   "source": [
    "## TODO: Execute your algorithm from Step 6 on\n",
    "## at least 6 images on your computer.\n",
    "## Feel free to use as many code cells as needed."
   ]
  }
 ],
 "metadata": {
  "anaconda-cloud": {},
  "kernelspec": {
   "display_name": "Python 3",
   "language": "python",
   "name": "python3"
  },
  "language_info": {
   "codemirror_mode": {
    "name": "ipython",
    "version": 3
   },
   "file_extension": ".py",
   "mimetype": "text/x-python",
   "name": "python",
   "nbconvert_exporter": "python",
   "pygments_lexer": "ipython3",
   "version": "3.6.2"
  }
 },
 "nbformat": 4,
 "nbformat_minor": 1
}
